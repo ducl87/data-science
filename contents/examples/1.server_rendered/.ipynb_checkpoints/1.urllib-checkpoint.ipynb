{
 "cells": [
  {
   "cell_type": "markdown",
   "id": "5442a60b-ff24-41a7-8da5-a89d2317c31d",
   "metadata": {},
   "source": [
    "* 环境：Python3\n",
    "* [参考文章](https://docs.python.org/3/howto/urllib2.html#wrapping-it-up)\n",
    "* 大纲：\n",
    "  * 抓取URL\n",
    "    * 发送POST请求\n",
    "    * 发送GET请求\n",
    "    * headers头\n",
    "  * 处理异常"
   ]
  },
  {
   "cell_type": "code",
   "execution_count": null,
   "id": "341ca3b7-8a44-42a9-87c9-f94a0889558d",
   "metadata": {},
   "outputs": [],
   "source": [
    "# 抓取URL\n",
    "\n",
    "import urllib.request\n",
    "\n",
    "try:\n",
    "    req = urllib.request.urlopen('https://www.baidu.com')\n",
    "    print(req.read())\n",
    "except urllib.error.HTTPError as e:\n",
    "    print(e.code)\n",
    "    print(e.read())      "
   ]
  },
  {
   "cell_type": "code",
   "execution_count": null,
   "id": "488f9226-d22b-442e-b1a2-37d86f9126db",
   "metadata": {},
   "outputs": [],
   "source": [
    "# 发送POST请求\n",
    "\n",
    "import urllib.parse\n",
    "import urllib.request\n",
    "\n",
    "# 请求地址\n",
    "url = 'http://www.someserver.com/cgi-bin/register.cgi'\n",
    "# 请求数据\n",
    "values = {'name' : 'Michael Foord',\n",
    "          'location' : 'Northampton',\n",
    "          'language' : 'Python' }\n",
    "# 使用parse编码\n",
    "data = urllib.parse.urlencode(values)\n",
    "data = data.encode('ascii') # data should be bytes\n",
    "req = urllib.request.Request(url, data)\n",
    "with urllib.request.urlopen(req) as response:\n",
    "    the_page = response.read()"
   ]
  },
  {
   "cell_type": "code",
   "execution_count": 39,
   "id": "45969799-9a38-4615-b954-0db9396889b8",
   "metadata": {},
   "outputs": [
    {
     "name": "stdout",
     "output_type": "stream",
     "text": [
      "wd=python%E6%98%AF%E4%BB%80%E4%B9%88\n"
     ]
    }
   ],
   "source": [
    "# 发送GET请求\n",
    "\n",
    "import urllib.request\n",
    "import urllib.parse\n",
    "data = {}\n",
    "data['wd'] = 'python是什么'\n",
    "url_values = urllib.parse.urlencode(data)\n",
    "print(url_values)  # The order may differ from below.  \n",
    "\n",
    "url = 'https://www.baidu.com/s'\n",
    "full_url = url + '?' + url_values\n",
    "data = urllib.request.urlopen(full_url)\n"
   ]
  },
  {
   "cell_type": "code",
   "execution_count": 40,
   "id": "12708654-f025-4add-871a-bda411f54cab",
   "metadata": {},
   "outputs": [
    {
     "data": {
      "text/plain": [
       "b'<html>\\r\\n<head>\\r\\n\\t<script>\\r\\n\\t\\tlocation.replace(location.href.replace(\"https://\",\"http://\"));\\r\\n\\t</script>\\r\\n</head>\\r\\n<body>\\r\\n\\t<noscript><meta http-equiv=\"refresh\" content=\"0;url=http://www.baidu.com/\"></noscript>\\r\\n</body>\\r\\n</html>'"
      ]
     },
     "execution_count": 40,
     "metadata": {},
     "output_type": "execute_result"
    }
   ],
   "source": [
    "data.read()"
   ]
  },
  {
   "cell_type": "code",
   "execution_count": 41,
   "id": "fa1f7339-425b-4f98-8211-06c03b9a460d",
   "metadata": {},
   "outputs": [
    {
     "name": "stdout",
     "output_type": "stream",
     "text": [
      "wd=python%E6%98%AF%E4%BB%80%E4%B9%88\n"
     ]
    }
   ],
   "source": [
    "# 添加headers头\n",
    "\n",
    "\n",
    "import urllib.request\n",
    "import urllib.parse\n",
    "data = {}\n",
    "data['wd'] = 'python是什么'\n",
    "\n",
    "user_agent = 'Mozilla/5.0 (Windows NT 6.1; Win64; x64)'\n",
    "\n",
    "headers = {'User-Agent': user_agent}\n",
    "\n",
    "url_values = urllib.parse.urlencode(data)\n",
    "print(url_values)  # The order may differ from below.  \n",
    "\n",
    "url = 'https://www.baidu.com/s'\n",
    "full_url = url + '?' + url_values\n",
    "\n",
    "req = urllib.request.Request(full_url, headers)\n",
    "with urllib.request.urlopen(req) as response:\n",
    "    the_page = response.read()\n",
    "\n"
   ]
  },
  {
   "cell_type": "code",
   "execution_count": 43,
   "id": "ed17929f-31a3-407f-abd9-541814825986",
   "metadata": {},
   "outputs": [
    {
     "data": {
      "text/plain": [
       "<urllib.request.Request at 0x7fbc1ab30090>"
      ]
     },
     "execution_count": 43,
     "metadata": {},
     "output_type": "execute_result"
    }
   ],
   "source": [
    "req"
   ]
  },
  {
   "cell_type": "code",
   "execution_count": null,
   "id": "26bcb2cb-8f70-416b-8a71-dc35ede0502e",
   "metadata": {},
   "outputs": [],
   "source": []
  }
 ],
 "metadata": {
  "kernelspec": {
   "display_name": "Python 3",
   "language": "python",
   "name": "python3"
  },
  "language_info": {
   "codemirror_mode": {
    "name": "ipython",
    "version": 3
   },
   "file_extension": ".py",
   "mimetype": "text/x-python",
   "name": "python",
   "nbconvert_exporter": "python",
   "pygments_lexer": "ipython3",
   "version": "3.7.10"
  }
 },
 "nbformat": 4,
 "nbformat_minor": 5
}
