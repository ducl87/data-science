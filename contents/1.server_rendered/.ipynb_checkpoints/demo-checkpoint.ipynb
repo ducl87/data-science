{
 "cells": [
  {
   "cell_type": "code",
   "execution_count": 4,
   "id": "83b628ec-a4f2-4aef-88f9-b5773a30249e",
   "metadata": {},
   "outputs": [
    {
     "data": {
      "text/plain": [
       "RandomForestClassifier(bootstrap=True, ccp_alpha=0.0, class_weight=None,\n",
       "                       criterion='gini', max_depth=None, max_features='auto',\n",
       "                       max_leaf_nodes=None, max_samples=None,\n",
       "                       min_impurity_decrease=0.0, min_impurity_split=None,\n",
       "                       min_samples_leaf=1, min_samples_split=2,\n",
       "                       min_weight_fraction_leaf=0.0, n_estimators=100,\n",
       "                       n_jobs=None, oob_score=False, random_state=0, verbose=0,\n",
       "                       warm_start=False)"
      ]
     },
     "execution_count": 4,
     "metadata": {},
     "output_type": "execute_result"
    }
   ],
   "source": [
    "# 导入机器学习算法：随机森林分类器\n",
    "from sklearn.ensemble import RandomForestClassifier\n",
    "# 实例化，配置相关模型参数\n",
    "clf = RandomForestClassifier(random_state=0)\n",
    "# 构造一个训练数据，2个样本，每个样本3个特征\n",
    "X = [[ 1,  2,  3],  \n",
    "     [11, 12, 13]]\n",
    "# 样本的类别\n",
    "y = [0, 1]\n",
    "\n",
    "# 训练\n",
    "clf.fit(X, y)"
   ]
  },
  {
   "cell_type": "code",
   "execution_count": 2,
   "id": "6c48bed8-1475-4839-9e84-4a481a1e7b7d",
   "metadata": {},
   "outputs": [
    {
     "data": {
      "text/plain": [
       "array([0, 1])"
      ]
     },
     "execution_count": 2,
     "metadata": {},
     "output_type": "execute_result"
    }
   ],
   "source": [
    "# 预测一下测试数据的类别\n",
    "clf.predict(X)"
   ]
  },
  {
   "cell_type": "code",
   "execution_count": 3,
   "id": "a20ea7a8-87a9-4c68-87c8-6dce9b337f74",
   "metadata": {},
   "outputs": [
    {
     "data": {
      "text/plain": [
       "array([0, 1])"
      ]
     },
     "execution_count": 3,
     "metadata": {},
     "output_type": "execute_result"
    }
   ],
   "source": [
    "clf.predict([[4, 5, 6], [14, 15, 16]]) "
   ]
  },
  {
   "cell_type": "code",
   "execution_count": null,
   "id": "29b9371b-b156-4bd6-a662-d6a0da33b19d",
   "metadata": {},
   "outputs": [],
   "source": []
  }
 ],
 "metadata": {
  "kernelspec": {
   "display_name": "Python 3",
   "language": "python",
   "name": "python3"
  },
  "language_info": {
   "codemirror_mode": {
    "name": "ipython",
    "version": 3
   },
   "file_extension": ".py",
   "mimetype": "text/x-python",
   "name": "python",
   "nbconvert_exporter": "python",
   "pygments_lexer": "ipython3",
   "version": "3.7.10"
  }
 },
 "nbformat": 4,
 "nbformat_minor": 5
}
