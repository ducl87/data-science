{
 "cells": [
  {
   "cell_type": "code",
   "execution_count": 1,
   "id": "3ae00ff1-ba04-4c65-848c-9bee9b99029a",
   "metadata": {},
   "outputs": [],
   "source": [
    "# urllib3、pycurl、hyper、requests、grab\n",
    "\n"
   ]
  },
  {
   "cell_type": "code",
   "execution_count": 19,
   "id": "8177a25a-98b5-4304-81b3-923201c97fe9",
   "metadata": {},
   "outputs": [],
   "source": [
    "# urllib3"
   ]
  },
  {
   "cell_type": "code",
   "execution_count": 20,
   "id": "825779b0-31d8-4523-b48f-77f12925b5ae",
   "metadata": {},
   "outputs": [],
   "source": [
    "import urllib3"
   ]
  },
  {
   "cell_type": "code",
   "execution_count": 21,
   "id": "5f316a76-35ab-41b6-b434-cdce070b82d0",
   "metadata": {},
   "outputs": [],
   "source": [
    "http = urllib3.PoolManager()\n"
   ]
  },
  {
   "cell_type": "code",
   "execution_count": 37,
   "id": "3380b4e8-a6ac-4c68-82fd-0332c926585d",
   "metadata": {},
   "outputs": [],
   "source": [
    "r = http.request('GET', 'http://httpbin.org/robots.txt')"
   ]
  },
  {
   "cell_type": "code",
   "execution_count": 38,
   "id": "700ffa6a-00ea-480b-830d-6e4811c763d4",
   "metadata": {},
   "outputs": [
    {
     "data": {
      "text/plain": [
       "b'User-agent: *\\nDisallow: /deny\\n'"
      ]
     },
     "execution_count": 38,
     "metadata": {},
     "output_type": "execute_result"
    }
   ],
   "source": [
    "r.data"
   ]
  },
  {
   "cell_type": "code",
   "execution_count": 93,
   "id": "91db9275-31c5-4a9b-8977-0e5384fd3420",
   "metadata": {},
   "outputs": [],
   "source": [
    "r = http.request('POST', 'http://quotes.toscrape.com/login',fields={'username': 'name', 'password':'password'})"
   ]
  },
  {
   "cell_type": "code",
   "execution_count": 94,
   "id": "b8f64147-9278-4b71-8c55-a054d1343b58",
   "metadata": {},
   "outputs": [
    {
     "data": {
      "text/plain": [
       "b'<!DOCTYPE HTML PUBLIC \"-//W3C//DTD HTML 3.2 Final//EN\">\\n<title>405 Method Not Allowed</title>\\n<h1>Method Not Allowed</h1>\\n<p>The method is not allowed for the requested URL.</p>\\n'"
      ]
     },
     "execution_count": 94,
     "metadata": {},
     "output_type": "execute_result"
    }
   ],
   "source": [
    "r.data"
   ]
  },
  {
   "cell_type": "code",
   "execution_count": 40,
   "id": "0cd3458d-c80d-43d7-a19e-1a7dbe076861",
   "metadata": {},
   "outputs": [],
   "source": [
    "r = http.request('GET', 'http://httpbin.org/ip')"
   ]
  },
  {
   "cell_type": "code",
   "execution_count": 45,
   "id": "2f1eecb0-1407-4d98-b9d0-034a957f481f",
   "metadata": {},
   "outputs": [
    {
     "data": {
      "text/plain": [
       "HTTPHeaderDict({'Date': 'Fri, 02 Jul 2021 09:09:42 GMT', 'Content-Type': 'application/json', 'Content-Length': '32', 'Connection': 'keep-alive', 'Server': 'gunicorn/19.9.0', 'Access-Control-Allow-Origin': '*', 'Access-Control-Allow-Credentials': 'true'})"
      ]
     },
     "execution_count": 45,
     "metadata": {},
     "output_type": "execute_result"
    }
   ],
   "source": [
    "r.headers\n"
   ]
  },
  {
   "cell_type": "code",
   "execution_count": 95,
   "id": "9f8298c4-64ab-4570-8d21-827c3f5525d0",
   "metadata": {},
   "outputs": [],
   "source": [
    "import json\n",
    "r = http.request('POST','http://quotes.toscrape.com/login',headers={'content-type' : 'application/x-www-form-urlencoded','Cookie': 'session=eyJ1c2VybmFtZSI6IjEyMyJ9.YN7L0g.TrJ-YgznfV-itjCYxFgMUXdTWsc'},\n",
    "                 fields={'username': '123','password':'123'}\n",
    ")"
   ]
  },
  {
   "cell_type": "code",
   "execution_count": 96,
   "id": "45972506-f4e9-43f7-aa07-a745b2e299a3",
   "metadata": {},
   "outputs": [
    {
     "data": {
      "text/plain": [
       "b'<!DOCTYPE html>\\n<html lang=\"en\">\\n<head>\\n\\t<meta charset=\"UTF-8\">\\n\\t<title>Quotes to Scrape</title>\\n    <link rel=\"stylesheet\" href=\"/static/bootstrap.min.css\">\\n    <link rel=\"stylesheet\" href=\"/static/main.css\">\\n</head>\\n<body>\\n    <div class=\"container\">\\n        <div class=\"row header-box\">\\n            <div class=\"col-md-8\">\\n                <h1>\\n                    <a href=\"/\" style=\"text-decoration: none\">Quotes to Scrape</a>\\n                </h1>\\n            </div>\\n            <div class=\"col-md-4\">\\n                <p>\\n                \\n                    <a href=\"/login\">Login</a>\\n                \\n                </p>\\n            </div>\\n        </div>\\n    \\n<body>\\n    <form action=\"/login\" method=\"post\" accept-charset=\"utf-8\" >\\n        <input type=\"hidden\" name=\"csrf_token\" value=\"lQDkNTWMXebjnoKdJASORvfBEgGVIZUFtrLwYcusiHymqpPzxahC\"/>\\n        <div class=\"row\">\\n            <div class=\"form-group col-xs-3\">\\n                <label for=\"username\">Username</label>\\n                <input type=\"text\" class=\"form-control\" id=\"username\" name=\"username\" />\\n            </div>\\n        </div>\\n        <div class=\"row\">\\n            <div class=\"form-group col-xs-3\">\\n                <label for=\"username\">Password</label>\\n                <input type=\"password\" class=\"form-control\" id=\"password\" name=\"password\" />\\n            </div>\\n        </div>\\n        <input type=\"submit\" value=\"Login\" class=\"btn btn-primary\" />\\n        \\n    </form>\\n</body>\\n\\n    </div>\\n    <footer class=\"footer\">\\n        <div class=\"container\">\\n            <p class=\"text-muted\">\\n                Quotes by: <a href=\"https://www.goodreads.com/quotes\">GoodReads.com</a>\\n            </p>\\n            <p class=\"copyright\">\\n                Made with <span class=\\'sh-red\\'>\\xe2\\x9d\\xa4</span> by <a href=\"https://scrapinghub.com\">Scrapinghub</a>\\n            </p>\\n        </div>\\n    </footer>\\n</body>\\n</html>'"
      ]
     },
     "execution_count": 96,
     "metadata": {},
     "output_type": "execute_result"
    }
   ],
   "source": [
    "r.data"
   ]
  },
  {
   "cell_type": "code",
   "execution_count": 84,
   "id": "1816ee6e-8b15-402d-92da-61659b8c7aaa",
   "metadata": {},
   "outputs": [
    {
     "data": {
      "text/plain": [
       "{'name': '张三'}"
      ]
     },
     "execution_count": 84,
     "metadata": {},
     "output_type": "execute_result"
    }
   ],
   "source": [
    "json.loads(r.data.decode('utf-8'))['args']"
   ]
  },
  {
   "cell_type": "code",
   "execution_count": 60,
   "id": "83e53399-33dc-4914-8b1f-a682bfcd7661",
   "metadata": {},
   "outputs": [
    {
     "data": {
      "text/plain": [
       "{'Accept-Encoding': 'identity',\n",
       " 'Host': 'httpbin.org',\n",
       " 'User-Agent': 'python-urllib3/1.26.5',\n",
       " 'X-Amzn-Trace-Id': 'Root=1-60deda71-54e886506a2520751a6d2866',\n",
       " 'X-Something': 'this is header content'}"
      ]
     },
     "execution_count": 60,
     "metadata": {},
     "output_type": "execute_result"
    }
   ],
   "source": [
    "json.loads(r.data.decode('utf-8'))['headers']"
   ]
  },
  {
   "cell_type": "code",
   "execution_count": null,
   "id": "c31ea2b4-bb20-4953-935f-f8907479c22e",
   "metadata": {},
   "outputs": [],
   "source": []
  }
 ],
 "metadata": {
  "kernelspec": {
   "display_name": "Python 3",
   "language": "python",
   "name": "python3"
  },
  "language_info": {
   "codemirror_mode": {
    "name": "ipython",
    "version": 3
   },
   "file_extension": ".py",
   "mimetype": "text/x-python",
   "name": "python",
   "nbconvert_exporter": "python",
   "pygments_lexer": "ipython3",
   "version": "3.7.10"
  }
 },
 "nbformat": 4,
 "nbformat_minor": 5
}
