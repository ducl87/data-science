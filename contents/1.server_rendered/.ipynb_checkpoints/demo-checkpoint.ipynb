{
 "cells": [
  {
   "cell_type": "code",
   "execution_count": 1,
   "id": "81ef6213-c043-49dc-879f-667c26322288",
   "metadata": {},
   "outputs": [],
   "source": [
    "html_doc = \"\"\"<html><head><title>The Dormouse's story</title></head>\n",
    "<body>\n",
    "<p class=\"title\"><b>The Dormouse's story</b></p>\n",
    "\n",
    "<p class=\"story\">Once upon a time there were three little sisters; and their names were </p>\n",
    "<a href=\"http://example.com/elsie\" class=\"sister\" id=\"link1\">Elsie</a>,\n",
    "<a href=\"http://example.com/lacie\" class=\"sister\" id=\"link2\">Lacie</a> and\n",
    "<a href=\"http://example.com/tillie\" class=\"sister\" id=\"link3\">Tillie</a>;\n",
    "<p>and they lived at the bottom of a well.</p>\n",
    "\n",
    "<p class=\"story\">...</p>\n",
    "\"\"\""
   ]
  },
  {
   "cell_type": "code",
   "execution_count": 2,
   "id": "ffd6b0bb-c004-4a16-b611-e6aa1b6ad78a",
   "metadata": {},
   "outputs": [],
   "source": [
    "# 导入库\n",
    "from bs4 import BeautifulSoup\n",
    "# 实例化\n",
    "soup = BeautifulSoup(html_doc, 'html.parser')\n"
   ]
  },
  {
   "cell_type": "code",
   "execution_count": 11,
   "id": "a668e1f8-4cb7-451c-ae7d-03014d780af0",
   "metadata": {},
   "outputs": [
    {
     "data": {
      "text/plain": [
       "['Elsie']"
      ]
     },
     "execution_count": 11,
     "metadata": {},
     "output_type": "execute_result"
    }
   ],
   "source": [
    "soup.find_all(string=\"Elsie\")"
   ]
  },
  {
   "cell_type": "code",
   "execution_count": 13,
   "id": "4e28af29-c05f-451c-a74a-f68f5da2bfc0",
   "metadata": {},
   "outputs": [],
   "source": [
    "import re"
   ]
  },
  {
   "cell_type": "code",
   "execution_count": 15,
   "id": "c27aef87-09d7-4823-a383-d16e407fb419",
   "metadata": {},
   "outputs": [
    {
     "data": {
      "text/plain": [
       "[\"The Dormouse's story\", \"The Dormouse's story\"]"
      ]
     },
     "execution_count": 15,
     "metadata": {},
     "output_type": "execute_result"
    }
   ],
   "source": [
    "\n",
    "soup.find_all(string=\"Elsie\")\n",
    "# [u'Elsie']\n",
    "\n",
    "soup.find_all(string=[\"Tillie\", \"Elsie\", \"Lacie\"])\n",
    "# [u'Elsie', u'Lacie', u'Tillie']\n",
    "\n",
    "soup.find_all(string=re.compile(\"Dormouse\"))\n",
    "[u\"The Dormouse's story\", u\"The Dormouse's story\"]\n",
    "\n",
    "def is_the_only_string_within_a_tag(s):\n",
    "    \"\"\"Return True if this string is the only child of its parent tag.\"\"\"\n",
    "    return (s == s.parent.string)\n",
    "\n",
    "soup.find_all(string=is_the_only_string_within_a_tag)\n",
    "# [u\"The Dormouse's story\", u\"The Dormouse's story\", u'Elsie', u'Lacie', u'Tillie', u'...']"
   ]
  },
  {
   "cell_type": "code",
   "execution_count": 26,
   "id": "6370f3d1-5e6e-425f-8c3b-80a46395cd4f",
   "metadata": {},
   "outputs": [
    {
     "data": {
      "text/plain": [
       "['Once upon a time there were three little sisters; and their names were ']"
      ]
     },
     "execution_count": 26,
     "metadata": {},
     "output_type": "execute_result"
    }
   ],
   "source": [
    "soup.find_all(string=re.compile('three'))"
   ]
  },
  {
   "cell_type": "code",
   "execution_count": 28,
   "id": "55b28ff1-d2c7-492f-bdbb-f6284fa780f0",
   "metadata": {},
   "outputs": [
    {
     "data": {
      "text/plain": [
       "[<a class=\"sister\" href=\"http://example.com/lacie\" id=\"link2\">Lacie</a>]"
      ]
     },
     "execution_count": 28,
     "metadata": {},
     "output_type": "execute_result"
    }
   ],
   "source": [
    "soup.find_all('a',string=re.compile('Lacie'))"
   ]
  },
  {
   "cell_type": "code",
   "execution_count": 38,
   "id": "80638316-00dc-4c75-b0dc-f9a967d91077",
   "metadata": {},
   "outputs": [
    {
     "data": {
      "text/plain": [
       "[<a class=\"sister\" href=\"http://example.com/elsie\" id=\"link1\">Elsie</a>,\n",
       " <a class=\"sister\" href=\"http://example.com/lacie\" id=\"link2\">Lacie</a>]"
      ]
     },
     "execution_count": 38,
     "metadata": {},
     "output_type": "execute_result"
    }
   ],
   "source": [
    "soup.find_all(\"a\", limit=2)\n"
   ]
  },
  {
   "cell_type": "code",
   "execution_count": 116,
   "id": "9f5ec515-9732-4b34-82f2-940245f54006",
   "metadata": {},
   "outputs": [],
   "source": [
    "html_doc = '''\n",
    "<div id='aa'>\n",
    "    <span id='bb'></span>\n",
    "    <div id='cc'>\n",
    "        <span id='dd'></span>\n",
    "    </div>\n",
    "</div>\n",
    "'''"
   ]
  },
  {
   "cell_type": "code",
   "execution_count": 117,
   "id": "fc4c7d91-1b0c-4d41-ae0b-93eb51b63e40",
   "metadata": {},
   "outputs": [],
   "source": [
    "soup = BeautifulSoup(html_doc, 'html.parser')"
   ]
  },
  {
   "cell_type": "code",
   "execution_count": 118,
   "id": "62b11650-cb1a-4be7-8fec-3087d3739b17",
   "metadata": {},
   "outputs": [
    {
     "data": {
      "text/plain": [
       "[<span id=\"bb\"></span>, <span id=\"dd\"></span>]"
      ]
     },
     "execution_count": 118,
     "metadata": {},
     "output_type": "execute_result"
    }
   ],
   "source": [
    "soup.div.find_all('span')"
   ]
  },
  {
   "cell_type": "code",
   "execution_count": 120,
   "id": "5dbf9613-e9dd-4569-b2cf-43320a6d026b",
   "metadata": {},
   "outputs": [
    {
     "data": {
      "text/plain": [
       "[<span id=\"bb\"></span>]"
      ]
     },
     "execution_count": 120,
     "metadata": {},
     "output_type": "execute_result"
    }
   ],
   "source": [
    "soup.div.find_all('span',recursive=False)"
   ]
  },
  {
   "cell_type": "code",
   "execution_count": null,
   "id": "b554e2cb-6cea-4552-abd9-f3a0a2aac1d4",
   "metadata": {},
   "outputs": [],
   "source": []
  },
  {
   "cell_type": "code",
   "execution_count": 58,
   "id": "f71ab7f3-db7e-403b-b207-5f9edf76b963",
   "metadata": {},
   "outputs": [
    {
     "name": "stdout",
     "output_type": "stream",
     "text": [
      "<html>\n",
      " <body>\n",
      "  <div id=\"aa\">\n",
      "   <div id=\"bb\">\n",
      "    <div id=\"cc\">\n",
      "    </div>\n",
      "   </div>\n",
      "  </div>\n",
      " </body>\n",
      "</html>\n"
     ]
    }
   ],
   "source": [
    "print(soup.prettify())"
   ]
  },
  {
   "cell_type": "code",
   "execution_count": 73,
   "id": "b3d8e214-0fd7-4a70-b7ba-c72e2031b160",
   "metadata": {},
   "outputs": [
    {
     "data": {
      "text/plain": [
       "[<div id=\"aa\">\n",
       " <div id=\"bb\">\n",
       " <div id=\"cc\">\n",
       " </div>\n",
       " </div>\n",
       " </div>,\n",
       " <div id=\"bb\">\n",
       " <div id=\"cc\">\n",
       " </div>\n",
       " </div>,\n",
       " <div id=\"cc\">\n",
       " </div>]"
      ]
     },
     "execution_count": 73,
     "metadata": {},
     "output_type": "execute_result"
    }
   ],
   "source": [
    "soup.html.find_all('div')"
   ]
  },
  {
   "cell_type": "code",
   "execution_count": null,
   "id": "3424fa70-7e65-4e90-8d81-614071918f70",
   "metadata": {},
   "outputs": [],
   "source": [
    "soup.select('')"
   ]
  }
 ],
 "metadata": {
  "kernelspec": {
   "display_name": "Python 3",
   "language": "python",
   "name": "python3"
  },
  "language_info": {
   "codemirror_mode": {
    "name": "ipython",
    "version": 3
   },
   "file_extension": ".py",
   "mimetype": "text/x-python",
   "name": "python",
   "nbconvert_exporter": "python",
   "pygments_lexer": "ipython3",
   "version": "3.7.10"
  }
 },
 "nbformat": 4,
 "nbformat_minor": 5
}
