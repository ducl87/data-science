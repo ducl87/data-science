{
 "cells": [
  {
   "cell_type": "code",
   "execution_count": 2,
   "id": "53c6e596-e439-4fa8-bb3e-17ad7cd5138d",
   "metadata": {},
   "outputs": [],
   "source": [
    "# 服务端渲染：结果都在HTML中"
   ]
  },
  {
   "cell_type": "code",
   "execution_count": null,
   "id": "32d9b921-3c74-4ee5-b33a-516dbf501718",
   "metadata": {},
   "outputs": [],
   "source": []
  }
 ],
 "metadata": {
  "kernelspec": {
   "display_name": "Python 3",
   "language": "python",
   "name": "python3"
  },
  "language_info": {
   "codemirror_mode": {
    "name": "ipython",
    "version": 3
   },
   "file_extension": ".py",
   "mimetype": "text/x-python",
   "name": "python",
   "nbconvert_exporter": "python",
   "pygments_lexer": "ipython3",
   "version": "3.7.10"
  }
 },
 "nbformat": 4,
 "nbformat_minor": 5
}
