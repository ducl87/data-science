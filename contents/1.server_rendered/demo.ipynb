{
 "cells": [
  {
   "cell_type": "code",
   "execution_count": 4,
   "id": "83b628ec-a4f2-4aef-88f9-b5773a30249e",
   "metadata": {},
   "outputs": [
    {
     "data": {
      "text/plain": [
       "RandomForestClassifier(bootstrap=True, ccp_alpha=0.0, class_weight=None,\n",
       "                       criterion='gini', max_depth=None, max_features='auto',\n",
       "                       max_leaf_nodes=None, max_samples=None,\n",
       "                       min_impurity_decrease=0.0, min_impurity_split=None,\n",
       "                       min_samples_leaf=1, min_samples_split=2,\n",
       "                       min_weight_fraction_leaf=0.0, n_estimators=100,\n",
       "                       n_jobs=None, oob_score=False, random_state=0, verbose=0,\n",
       "                       warm_start=False)"
      ]
     },
     "execution_count": 4,
     "metadata": {},
     "output_type": "execute_result"
    }
   ],
   "source": [
    "# 导入机器学习算法：随机森林分类器\n",
    "from sklearn.ensemble import RandomForestClassifier\n",
    "# 实例化，配置相关模型参数\n",
    "clf = RandomForestClassifier(random_state=0)\n",
    "# 构造一个训练数据，2个样本，每个样本3个特征\n",
    "X = [[ 1,  2,  3],  \n",
    "     [11, 12, 13]]\n",
    "# 样本的类别\n",
    "y = [0, 1]\n",
    "\n",
    "# 训练\n",
    "clf.fit(X, y)"
   ]
  },
  {
   "cell_type": "code",
   "execution_count": 5,
   "id": "6c48bed8-1475-4839-9e84-4a481a1e7b7d",
   "metadata": {},
   "outputs": [
    {
     "data": {
      "text/plain": [
       "array([0, 1])"
      ]
     },
     "execution_count": 5,
     "metadata": {},
     "output_type": "execute_result"
    }
   ],
   "source": [
    "# 预测一下测试数据的类别\n",
    "clf.predict(X)"
   ]
  },
  {
   "cell_type": "code",
   "execution_count": 3,
   "id": "a20ea7a8-87a9-4c68-87c8-6dce9b337f74",
   "metadata": {},
   "outputs": [
    {
     "data": {
      "text/plain": [
       "array([0, 1])"
      ]
     },
     "execution_count": 3,
     "metadata": {},
     "output_type": "execute_result"
    }
   ],
   "source": [
    "# 预测一下测试数据\n",
    "clf.predict([[4, 5, 6], [14, 15, 16]]) "
   ]
  },
  {
   "cell_type": "code",
   "execution_count": 1,
   "id": "29b9371b-b156-4bd6-a662-d6a0da33b19d",
   "metadata": {},
   "outputs": [],
   "source": [
    "import numpy as np"
   ]
  },
  {
   "cell_type": "code",
   "execution_count": 3,
   "id": "3fc5aed8-689c-4c6b-ba95-20b5fec5b86a",
   "metadata": {},
   "outputs": [],
   "source": [
    "# 赋值x,y为向量[1,2,3]\n",
    "x = y = np.array([[1],\n",
    "                  [2],\n",
    "                  [3]])"
   ]
  },
  {
   "cell_type": "code",
   "execution_count": 5,
   "id": "817d6015-2bc8-4a09-9b97-c8f5badb6287",
   "metadata": {},
   "outputs": [
    {
     "data": {
      "text/plain": [
       "array([[2],\n",
       "       [4],\n",
       "       [6]])"
      ]
     },
     "execution_count": 5,
     "metadata": {},
     "output_type": "execute_result"
    }
   ],
   "source": [
    "x + y"
   ]
  },
  {
   "cell_type": "code",
   "execution_count": 7,
   "id": "74ddeb68-0ca4-4d12-87d8-3350aa0f7bfe",
   "metadata": {},
   "outputs": [
    {
     "data": {
      "text/plain": [
       "array([[2],\n",
       "       [4],\n",
       "       [6]])"
      ]
     },
     "execution_count": 7,
     "metadata": {},
     "output_type": "execute_result"
    }
   ],
   "source": [
    "np.add(x,y)"
   ]
  },
  {
   "cell_type": "code",
   "execution_count": 8,
   "id": "4311da63-188f-46b8-b43e-87f727bf6056",
   "metadata": {},
   "outputs": [],
   "source": [
    "x = 3\n",
    "y = np.array([\n",
    "    [3],\n",
    "    [4],\n",
    "    [5],\n",
    "    [6]\n",
    "])"
   ]
  },
  {
   "cell_type": "code",
   "execution_count": 9,
   "id": "c9960576-6d69-4275-80e8-4938644e691b",
   "metadata": {},
   "outputs": [
    {
     "data": {
      "text/plain": [
       "array([[ 9],\n",
       "       [12],\n",
       "       [15],\n",
       "       [18]])"
      ]
     },
     "execution_count": 9,
     "metadata": {},
     "output_type": "execute_result"
    }
   ],
   "source": [
    "x*y"
   ]
  },
  {
   "cell_type": "code",
   "execution_count": 10,
   "id": "69f6c6d6-f119-4ce3-93a4-7aff7d08c0a9",
   "metadata": {},
   "outputs": [],
   "source": [
    "a,b = 2,3"
   ]
  },
  {
   "cell_type": "code",
   "execution_count": 15,
   "id": "ef06e29d-224f-4359-9164-0daafd9dece4",
   "metadata": {},
   "outputs": [],
   "source": [
    "x,y = np.array([[2],[3]]), np.array([[4],[5]])"
   ]
  },
  {
   "cell_type": "code",
   "execution_count": 17,
   "id": "97f9ef80-fddb-4bf0-a3ed-b829d71460e4",
   "metadata": {},
   "outputs": [
    {
     "data": {
      "text/plain": [
       "array([[16],\n",
       "       [21]])"
      ]
     },
     "execution_count": 17,
     "metadata": {},
     "output_type": "execute_result"
    }
   ],
   "source": [
    "a * x + b * y"
   ]
  },
  {
   "cell_type": "code",
   "execution_count": 18,
   "id": "97b44ceb-4f1c-4854-9d68-c2bf39f85473",
   "metadata": {},
   "outputs": [],
   "source": [
    "x, y = np.array([[-2],[2]]), np.array([[4],[-3]])\n"
   ]
  },
  {
   "cell_type": "code",
   "execution_count": 20,
   "id": "b7b0c65c-524b-45f9-8695-95b0be62e751",
   "metadata": {},
   "outputs": [
    {
     "data": {
      "text/plain": [
       "array([[-14]])"
      ]
     },
     "execution_count": 20,
     "metadata": {},
     "output_type": "execute_result"
    }
   ],
   "source": [
    "np.dot(x.T,y)"
   ]
  },
  {
   "cell_type": "code",
   "execution_count": 21,
   "id": "6206d957-ba0b-4891-99d0-198aaba0585d",
   "metadata": {},
   "outputs": [
    {
     "data": {
      "text/plain": [
       "array([[-14]])"
      ]
     },
     "execution_count": 21,
     "metadata": {},
     "output_type": "execute_result"
    }
   ],
   "source": [
    "x.T @ y\n"
   ]
  },
  {
   "cell_type": "code",
   "execution_count": 18,
   "id": "3ee66c10-d3ac-405a-bf4b-66fc350acf56",
   "metadata": {},
   "outputs": [],
   "source": [
    "import numpy as np"
   ]
  },
  {
   "cell_type": "code",
   "execution_count": 9,
   "id": "b9df9696-7077-48e0-8989-08940625bcfa",
   "metadata": {},
   "outputs": [],
   "source": [
    "a = np.array([[3],[-4],[-5]])"
   ]
  },
  {
   "cell_type": "code",
   "execution_count": 10,
   "id": "14e8f55b-af24-41f1-8b9b-75f93e8f62d2",
   "metadata": {},
   "outputs": [
    {
     "data": {
      "text/plain": [
       "5.0"
      ]
     },
     "execution_count": 10,
     "metadata": {},
     "output_type": "execute_result"
    }
   ],
   "source": [
    "np.linalg.norm(a,np.inf)"
   ]
  },
  {
   "cell_type": "code",
   "execution_count": 42,
   "id": "012b2fc3-97a3-4fbb-80d2-ecbba3a818c2",
   "metadata": {},
   "outputs": [],
   "source": [
    "A = np.array([\n",
    "    [0,2],\n",
    "    [1,4],\n",
    "    [3,1],    \n",
    "])\n",
    "B = np.array([\n",
    "    [0,2],\n",
    "    [1,4]\n",
    "])\n",
    "I = np.identity(2)"
   ]
  },
  {
   "cell_type": "code",
   "execution_count": 44,
   "id": "f82bf4ca-ed86-4cbd-81b8-c5dac178aec7",
   "metadata": {},
   "outputs": [
    {
     "ename": "ValueError",
     "evalue": "operands could not be broadcast together with shapes (3,2) (2,2) ",
     "output_type": "error",
     "traceback": [
      "\u001b[0;31m---------------------------------------------------------------------------\u001b[0m",
      "\u001b[0;31mValueError\u001b[0m                                Traceback (most recent call last)",
      "\u001b[0;32m<ipython-input-44-32ae4dfc83a9>\u001b[0m in \u001b[0;36m<module>\u001b[0;34m\u001b[0m\n\u001b[0;32m----> 1\u001b[0;31m \u001b[0mA\u001b[0m \u001b[0;34m*\u001b[0m \u001b[0mI\u001b[0m\u001b[0;34m\u001b[0m\u001b[0;34m\u001b[0m\u001b[0m\n\u001b[0m",
      "\u001b[0;31mValueError\u001b[0m: operands could not be broadcast together with shapes (3,2) (2,2) "
     ]
    }
   ],
   "source": [
    "A * I"
   ]
  },
  {
   "cell_type": "code",
   "execution_count": 5,
   "id": "ac1e64d8-86cc-4a9c-93d7-428bc644f9ba",
   "metadata": {},
   "outputs": [
    {
     "ename": "SyntaxError",
     "evalue": "invalid syntax (<ipython-input-5-5ae7627b0717>, line 1)",
     "output_type": "error",
     "traceback": [
      "\u001b[0;36m  File \u001b[0;32m\"<ipython-input-5-5ae7627b0717>\"\u001b[0;36m, line \u001b[0;32m1\u001b[0m\n\u001b[0;31m    0,1  * 3,1 = 0 1\u001b[0m\n\u001b[0m                   ^\u001b[0m\n\u001b[0;31mSyntaxError\u001b[0m\u001b[0;31m:\u001b[0m invalid syntax\n"
     ]
    }
   ],
   "source": [
    "0,2 3,-3  = -6\n",
    "0,2 1,2 = 4\n",
    "1,4 3,-3 3 -12 =-9\n",
    "1,4 1,2 2 8 = 9"
   ]
  },
  {
   "cell_type": "code",
   "execution_count": 17,
   "id": "69819b67-4f85-402e-a883-154a79da1d49",
   "metadata": {},
   "outputs": [
    {
     "data": {
      "text/plain": [
       "array([[ 2,  8],\n",
       "       [ 4, 18],\n",
       "       [ 1, 10]])"
      ]
     },
     "execution_count": 17,
     "metadata": {},
     "output_type": "execute_result"
    }
   ],
   "source": [
    "np.dot(A,B)"
   ]
  },
  {
   "cell_type": "code",
   "execution_count": 29,
   "id": "1578f5ad-3fd2-400e-a301-f4d141ecc516",
   "metadata": {},
   "outputs": [],
   "source": [
    "A = np.array([[1, 2, 1],\n",
    "              [4, 4, 5],\n",
    "              [6, 7, 7]])"
   ]
  },
  {
   "cell_type": "code",
   "execution_count": 30,
   "id": "d3c263e6-5fd8-4af9-b758-38d18a34d740",
   "metadata": {},
   "outputs": [],
   "source": [
    "A_i = np.linalg.inv(A)"
   ]
  },
  {
   "cell_type": "code",
   "execution_count": 31,
   "id": "8b6dc613-ca89-4852-b630-59332e4e4778",
   "metadata": {},
   "outputs": [
    {
     "data": {
      "text/plain": [
       "array([[-7., -7.,  6.],\n",
       "       [ 2.,  1., -1.],\n",
       "       [ 4.,  5., -4.]])"
      ]
     },
     "execution_count": 31,
     "metadata": {},
     "output_type": "execute_result"
    }
   ],
   "source": [
    "A_i"
   ]
  },
  {
   "cell_type": "code",
   "execution_count": 37,
   "id": "5049f21d-a1b0-4b59-8d88-ab502ffcb315",
   "metadata": {},
   "outputs": [
    {
     "data": {
      "text/plain": [
       "array([[ 1.,  0.,  0.],\n",
       "       [-0.,  1.,  0.],\n",
       "       [-0.,  0.,  1.]])"
      ]
     },
     "execution_count": 37,
     "metadata": {},
     "output_type": "execute_result"
    }
   ],
   "source": [
    "np.round(A @ A_i )\n"
   ]
  },
  {
   "cell_type": "code",
   "execution_count": 38,
   "id": "1b4cb017-6064-4158-b034-9f3ddc074b69",
   "metadata": {},
   "outputs": [
    {
     "data": {
      "text/plain": [
       "array([[ 1.,  0.,  0.],\n",
       "       [ 0.,  1.,  0.],\n",
       "       [-0., -0.,  1.]])"
      ]
     },
     "execution_count": 38,
     "metadata": {},
     "output_type": "execute_result"
    }
   ],
   "source": [
    "np.round(A_i @ A )\n"
   ]
  },
  {
   "cell_type": "code",
   "execution_count": 39,
   "id": "e244ba94-99b7-4abe-9e05-e355c9957ac1",
   "metadata": {},
   "outputs": [
    {
     "data": {
      "text/plain": [
       "array([[ 1.00000000e+00,  3.55271368e-15,  3.55271368e-15],\n",
       "       [ 6.66133815e-16,  1.00000000e+00,  7.77156117e-16],\n",
       "       [-8.88178420e-16, -4.44089210e-16,  1.00000000e+00]])"
      ]
     },
     "execution_count": 39,
     "metadata": {},
     "output_type": "execute_result"
    }
   ],
   "source": []
  },
  {
   "cell_type": "code",
   "execution_count": 40,
   "id": "d4f91847-ffdf-4a4c-8940-027041834830",
   "metadata": {},
   "outputs": [],
   "source": [
    "A = np.array([[1, 3, 5],\n",
    "              [2, 4, 6]])"
   ]
  },
  {
   "cell_type": "code",
   "execution_count": 41,
   "id": "9741d702-80c4-4cee-9add-dcf4e0bf2491",
   "metadata": {},
   "outputs": [
    {
     "data": {
      "text/plain": [
       "array([[1, 2],\n",
       "       [3, 4],\n",
       "       [5, 6]])"
      ]
     },
     "execution_count": 41,
     "metadata": {},
     "output_type": "execute_result"
    }
   ],
   "source": [
    "A.T"
   ]
  },
  {
   "cell_type": "code",
   "execution_count": 45,
   "id": "60366ad4-87a0-4ccd-961b-a59ff8d874df",
   "metadata": {},
   "outputs": [],
   "source": [
    "A = np.array([[1, 2],\n",
    "              [3, 4]])"
   ]
  },
  {
   "cell_type": "code",
   "execution_count": 46,
   "id": "9dd4e743-cc2a-4532-a136-745e5dbf548a",
   "metadata": {},
   "outputs": [],
   "source": [
    "B = np.array([[5, 6],\n",
    "              [7, 8]])"
   ]
  },
  {
   "cell_type": "code",
   "execution_count": 47,
   "id": "b1d2a45e-92c7-465c-ab1a-b4659f838c3e",
   "metadata": {},
   "outputs": [
    {
     "data": {
      "text/plain": [
       "array([[ 5, 12],\n",
       "       [21, 32]])"
      ]
     },
     "execution_count": 47,
     "metadata": {},
     "output_type": "execute_result"
    }
   ],
   "source": [
    "A*B"
   ]
  },
  {
   "cell_type": "code",
   "execution_count": 48,
   "id": "8d41881f-efcd-401f-94bf-be65cb0a31de",
   "metadata": {},
   "outputs": [
    {
     "data": {
      "text/plain": [
       "array([[ 5, 12],\n",
       "       [21, 32]])"
      ]
     },
     "execution_count": 48,
     "metadata": {},
     "output_type": "execute_result"
    }
   ],
   "source": [
    "np.multiply(A,B)"
   ]
  },
  {
   "cell_type": "code",
   "execution_count": 50,
   "id": "e6de2340-0f9e-462c-ac57-f5d192b2853f",
   "metadata": {},
   "outputs": [],
   "source": [
    "import numpy as np"
   ]
  },
  {
   "cell_type": "code",
   "execution_count": 51,
   "id": "8b2b1713-be63-4507-86b4-243335a8b743",
   "metadata": {},
   "outputs": [],
   "source": [
    "A = np.array([\n",
    "    [1,-2,3],\n",
    "    [-1,3,0],\n",
    "    [2,-5,5]    \n",
    "])"
   ]
  },
  {
   "cell_type": "code",
   "execution_count": 52,
   "id": "3faf4b36-4518-47a6-8b1f-0a941abb3d65",
   "metadata": {},
   "outputs": [
    {
     "data": {
      "text/plain": [
       "array([[ 1, -2,  3],\n",
       "       [-1,  3,  0],\n",
       "       [ 2, -5,  5]])"
      ]
     },
     "execution_count": 52,
     "metadata": {},
     "output_type": "execute_result"
    }
   ],
   "source": [
    "A"
   ]
  },
  {
   "cell_type": "code",
   "execution_count": 53,
   "id": "a364016e-6707-48fc-8739-79ff868c2455",
   "metadata": {},
   "outputs": [],
   "source": [
    "y = np.array([\n",
    "    [9],\n",
    "    [-4],\n",
    "    [17]\n",
    "])"
   ]
  },
  {
   "cell_type": "code",
   "execution_count": 54,
   "id": "36a82067-7eb4-4f72-b9b6-e55f78156baa",
   "metadata": {},
   "outputs": [
    {
     "data": {
      "text/plain": [
       "array([[ 9],\n",
       "       [-4],\n",
       "       [17]])"
      ]
     },
     "execution_count": 54,
     "metadata": {},
     "output_type": "execute_result"
    }
   ],
   "source": [
    "y"
   ]
  },
  {
   "cell_type": "code",
   "execution_count": 55,
   "id": "3e0e1ce9-e478-434c-8fa5-b0e5a60618cc",
   "metadata": {},
   "outputs": [
    {
     "data": {
      "text/plain": [
       "array([[ 1.],\n",
       "       [-1.],\n",
       "       [ 2.]])"
      ]
     },
     "execution_count": 55,
     "metadata": {},
     "output_type": "execute_result"
    }
   ],
   "source": [
    "np.linalg.solve(A,y)"
   ]
  },
  {
   "cell_type": "code",
   "execution_count": null,
   "id": "02507e52-cac4-4e76-a6b6-d725c01c2708",
   "metadata": {},
   "outputs": [],
   "source": []
  }
 ],
 "metadata": {
  "kernelspec": {
   "display_name": "Python 3",
   "language": "python",
   "name": "python3"
  },
  "language_info": {
   "codemirror_mode": {
    "name": "ipython",
    "version": 3
   },
   "file_extension": ".py",
   "mimetype": "text/x-python",
   "name": "python",
   "nbconvert_exporter": "python",
   "pygments_lexer": "ipython3",
   "version": "3.7.10"
  }
 },
 "nbformat": 4,
 "nbformat_minor": 5
}
