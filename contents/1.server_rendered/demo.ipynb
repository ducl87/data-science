{
 "cells": [
  {
   "cell_type": "code",
   "execution_count": 1,
   "id": "3ae00ff1-ba04-4c65-848c-9bee9b99029a",
   "metadata": {},
   "outputs": [],
   "source": [
    "# urllib3、pycurl、hyper、requests、grab\n",
    "\n"
   ]
  },
  {
   "cell_type": "code",
   "execution_count": 2,
   "id": "8177a25a-98b5-4304-81b3-923201c97fe9",
   "metadata": {},
   "outputs": [],
   "source": [
    "# urllib3"
   ]
  },
  {
   "cell_type": "code",
   "execution_count": 3,
   "id": "825779b0-31d8-4523-b48f-77f12925b5ae",
   "metadata": {},
   "outputs": [],
   "source": [
    "import urllib3"
   ]
  },
  {
   "cell_type": "code",
   "execution_count": 4,
   "id": "5f316a76-35ab-41b6-b434-cdce070b82d0",
   "metadata": {},
   "outputs": [],
   "source": [
    "http = urllib3.PoolManager()\n"
   ]
  },
  {
   "cell_type": "code",
   "execution_count": 5,
   "id": "3380b4e8-a6ac-4c68-82fd-0332c926585d",
   "metadata": {},
   "outputs": [],
   "source": [
    "r = http.request('GET', 'http://httpbin.org/robots.txt')"
   ]
  },
  {
   "cell_type": "code",
   "execution_count": 6,
   "id": "700ffa6a-00ea-480b-830d-6e4811c763d4",
   "metadata": {},
   "outputs": [
    {
     "data": {
      "text/plain": [
       "b'User-agent: *\\nDisallow: /deny\\n'"
      ]
     },
     "execution_count": 6,
     "metadata": {},
     "output_type": "execute_result"
    }
   ],
   "source": [
    "r.data"
   ]
  },
  {
   "cell_type": "code",
   "execution_count": 7,
   "id": "91db9275-31c5-4a9b-8977-0e5384fd3420",
   "metadata": {},
   "outputs": [],
   "source": [
    "r = http.request('POST', 'http://quotes.toscrape.com/login',fields={'username': 'name', 'password':'password'})"
   ]
  },
  {
   "cell_type": "code",
   "execution_count": 8,
   "id": "b8f64147-9278-4b71-8c55-a054d1343b58",
   "metadata": {},
   "outputs": [
    {
     "data": {
      "text/plain": [
       "b'<!DOCTYPE HTML PUBLIC \"-//W3C//DTD HTML 3.2 Final//EN\">\\n<title>405 Method Not Allowed</title>\\n<h1>Method Not Allowed</h1>\\n<p>The method is not allowed for the requested URL.</p>\\n'"
      ]
     },
     "execution_count": 8,
     "metadata": {},
     "output_type": "execute_result"
    }
   ],
   "source": [
    "r.data"
   ]
  },
  {
   "cell_type": "code",
   "execution_count": 9,
   "id": "0cd3458d-c80d-43d7-a19e-1a7dbe076861",
   "metadata": {},
   "outputs": [],
   "source": [
    "r = http.request('GET', 'http://httpbin.org/ip')"
   ]
  },
  {
   "cell_type": "code",
   "execution_count": 10,
   "id": "2f1eecb0-1407-4d98-b9d0-034a957f481f",
   "metadata": {},
   "outputs": [
    {
     "data": {
      "text/plain": [
       "HTTPHeaderDict({'Date': 'Sun, 04 Jul 2021 12:33:10 GMT', 'Content-Type': 'application/json', 'Content-Length': '34', 'Connection': 'keep-alive', 'Server': 'gunicorn/19.9.0', 'Access-Control-Allow-Origin': '*', 'Access-Control-Allow-Credentials': 'true'})"
      ]
     },
     "execution_count": 10,
     "metadata": {},
     "output_type": "execute_result"
    }
   ],
   "source": [
    "r.headers\n"
   ]
  },
  {
   "cell_type": "code",
   "execution_count": 11,
   "id": "9f8298c4-64ab-4570-8d21-827c3f5525d0",
   "metadata": {},
   "outputs": [],
   "source": [
    "import json\n",
    "r = http.request('POST','http://quotes.toscrape.com/login',headers={'content-type' : 'application/x-www-form-urlencoded','Cookie': 'session=eyJ1c2VybmFtZSI6IjEyMyJ9.YN7L0g.TrJ-YgznfV-itjCYxFgMUXdTWsc'},\n",
    "                 fields={'username': '123','password':'123'}\n",
    ")"
   ]
  },
  {
   "cell_type": "code",
   "execution_count": 12,
   "id": "45972506-f4e9-43f7-aa07-a745b2e299a3",
   "metadata": {},
   "outputs": [
    {
     "data": {
      "text/plain": [
       "b'<!DOCTYPE html>\\n<html lang=\"en\">\\n<head>\\n\\t<meta charset=\"UTF-8\">\\n\\t<title>Quotes to Scrape</title>\\n    <link rel=\"stylesheet\" href=\"/static/bootstrap.min.css\">\\n    <link rel=\"stylesheet\" href=\"/static/main.css\">\\n</head>\\n<body>\\n    <div class=\"container\">\\n        <div class=\"row header-box\">\\n            <div class=\"col-md-8\">\\n                <h1>\\n                    <a href=\"/\" style=\"text-decoration: none\">Quotes to Scrape</a>\\n                </h1>\\n            </div>\\n            <div class=\"col-md-4\">\\n                <p>\\n                \\n                    <a href=\"/login\">Login</a>\\n                \\n                </p>\\n            </div>\\n        </div>\\n    \\n<body>\\n    <form action=\"/login\" method=\"post\" accept-charset=\"utf-8\" >\\n        <input type=\"hidden\" name=\"csrf_token\" value=\"MazPrnOUBxwRkvmeqXWusTGECjpHQNhJYgZlDSboIFKVfLytidcA\"/>\\n        <div class=\"row\">\\n            <div class=\"form-group col-xs-3\">\\n                <label for=\"username\">Username</label>\\n                <input type=\"text\" class=\"form-control\" id=\"username\" name=\"username\" />\\n            </div>\\n        </div>\\n        <div class=\"row\">\\n            <div class=\"form-group col-xs-3\">\\n                <label for=\"username\">Password</label>\\n                <input type=\"password\" class=\"form-control\" id=\"password\" name=\"password\" />\\n            </div>\\n        </div>\\n        <input type=\"submit\" value=\"Login\" class=\"btn btn-primary\" />\\n        \\n        <p class=\"error\">Error while logging in: please, provide your username.</p>\\n        \\n    </form>\\n</body>\\n\\n    </div>\\n    <footer class=\"footer\">\\n        <div class=\"container\">\\n            <p class=\"text-muted\">\\n                Quotes by: <a href=\"https://www.goodreads.com/quotes\">GoodReads.com</a>\\n            </p>\\n            <p class=\"copyright\">\\n                Made with <span class=\\'sh-red\\'>\\xe2\\x9d\\xa4</span> by <a href=\"https://scrapinghub.com\">Scrapinghub</a>\\n            </p>\\n        </div>\\n    </footer>\\n</body>\\n</html>'"
      ]
     },
     "execution_count": 12,
     "metadata": {},
     "output_type": "execute_result"
    }
   ],
   "source": [
    "r.data"
   ]
  },
  {
   "cell_type": "code",
   "execution_count": 13,
   "id": "1816ee6e-8b15-402d-92da-61659b8c7aaa",
   "metadata": {},
   "outputs": [
    {
     "ename": "JSONDecodeError",
     "evalue": "Expecting value: line 1 column 1 (char 0)",
     "output_type": "error",
     "traceback": [
      "\u001b[0;31m---------------------------------------------------------------------------\u001b[0m",
      "\u001b[0;31mJSONDecodeError\u001b[0m                           Traceback (most recent call last)",
      "\u001b[0;32m<ipython-input-13-0b0c21c86efc>\u001b[0m in \u001b[0;36m<module>\u001b[0;34m\u001b[0m\n\u001b[0;32m----> 1\u001b[0;31m \u001b[0mjson\u001b[0m\u001b[0;34m.\u001b[0m\u001b[0mloads\u001b[0m\u001b[0;34m(\u001b[0m\u001b[0mr\u001b[0m\u001b[0;34m.\u001b[0m\u001b[0mdata\u001b[0m\u001b[0;34m.\u001b[0m\u001b[0mdecode\u001b[0m\u001b[0;34m(\u001b[0m\u001b[0;34m'utf-8'\u001b[0m\u001b[0;34m)\u001b[0m\u001b[0;34m)\u001b[0m\u001b[0;34m[\u001b[0m\u001b[0;34m'args'\u001b[0m\u001b[0;34m]\u001b[0m\u001b[0;34m\u001b[0m\u001b[0;34m\u001b[0m\u001b[0m\n\u001b[0m",
      "\u001b[0;32m~/miniconda3/envs/icarus/lib/python3.7/json/__init__.py\u001b[0m in \u001b[0;36mloads\u001b[0;34m(s, encoding, cls, object_hook, parse_float, parse_int, parse_constant, object_pairs_hook, **kw)\u001b[0m\n\u001b[1;32m    346\u001b[0m             \u001b[0mparse_int\u001b[0m \u001b[0;32mis\u001b[0m \u001b[0;32mNone\u001b[0m \u001b[0;32mand\u001b[0m \u001b[0mparse_float\u001b[0m \u001b[0;32mis\u001b[0m \u001b[0;32mNone\u001b[0m \u001b[0;32mand\u001b[0m\u001b[0;34m\u001b[0m\u001b[0;34m\u001b[0m\u001b[0m\n\u001b[1;32m    347\u001b[0m             parse_constant is None and object_pairs_hook is None and not kw):\n\u001b[0;32m--> 348\u001b[0;31m         \u001b[0;32mreturn\u001b[0m \u001b[0m_default_decoder\u001b[0m\u001b[0;34m.\u001b[0m\u001b[0mdecode\u001b[0m\u001b[0;34m(\u001b[0m\u001b[0ms\u001b[0m\u001b[0;34m)\u001b[0m\u001b[0;34m\u001b[0m\u001b[0;34m\u001b[0m\u001b[0m\n\u001b[0m\u001b[1;32m    349\u001b[0m     \u001b[0;32mif\u001b[0m \u001b[0mcls\u001b[0m \u001b[0;32mis\u001b[0m \u001b[0;32mNone\u001b[0m\u001b[0;34m:\u001b[0m\u001b[0;34m\u001b[0m\u001b[0;34m\u001b[0m\u001b[0m\n\u001b[1;32m    350\u001b[0m         \u001b[0mcls\u001b[0m \u001b[0;34m=\u001b[0m \u001b[0mJSONDecoder\u001b[0m\u001b[0;34m\u001b[0m\u001b[0;34m\u001b[0m\u001b[0m\n",
      "\u001b[0;32m~/miniconda3/envs/icarus/lib/python3.7/json/decoder.py\u001b[0m in \u001b[0;36mdecode\u001b[0;34m(self, s, _w)\u001b[0m\n\u001b[1;32m    335\u001b[0m \u001b[0;34m\u001b[0m\u001b[0m\n\u001b[1;32m    336\u001b[0m         \"\"\"\n\u001b[0;32m--> 337\u001b[0;31m         \u001b[0mobj\u001b[0m\u001b[0;34m,\u001b[0m \u001b[0mend\u001b[0m \u001b[0;34m=\u001b[0m \u001b[0mself\u001b[0m\u001b[0;34m.\u001b[0m\u001b[0mraw_decode\u001b[0m\u001b[0;34m(\u001b[0m\u001b[0ms\u001b[0m\u001b[0;34m,\u001b[0m \u001b[0midx\u001b[0m\u001b[0;34m=\u001b[0m\u001b[0m_w\u001b[0m\u001b[0;34m(\u001b[0m\u001b[0ms\u001b[0m\u001b[0;34m,\u001b[0m \u001b[0;36m0\u001b[0m\u001b[0;34m)\u001b[0m\u001b[0;34m.\u001b[0m\u001b[0mend\u001b[0m\u001b[0;34m(\u001b[0m\u001b[0;34m)\u001b[0m\u001b[0;34m)\u001b[0m\u001b[0;34m\u001b[0m\u001b[0;34m\u001b[0m\u001b[0m\n\u001b[0m\u001b[1;32m    338\u001b[0m         \u001b[0mend\u001b[0m \u001b[0;34m=\u001b[0m \u001b[0m_w\u001b[0m\u001b[0;34m(\u001b[0m\u001b[0ms\u001b[0m\u001b[0;34m,\u001b[0m \u001b[0mend\u001b[0m\u001b[0;34m)\u001b[0m\u001b[0;34m.\u001b[0m\u001b[0mend\u001b[0m\u001b[0;34m(\u001b[0m\u001b[0;34m)\u001b[0m\u001b[0;34m\u001b[0m\u001b[0;34m\u001b[0m\u001b[0m\n\u001b[1;32m    339\u001b[0m         \u001b[0;32mif\u001b[0m \u001b[0mend\u001b[0m \u001b[0;34m!=\u001b[0m \u001b[0mlen\u001b[0m\u001b[0;34m(\u001b[0m\u001b[0ms\u001b[0m\u001b[0;34m)\u001b[0m\u001b[0;34m:\u001b[0m\u001b[0;34m\u001b[0m\u001b[0;34m\u001b[0m\u001b[0m\n",
      "\u001b[0;32m~/miniconda3/envs/icarus/lib/python3.7/json/decoder.py\u001b[0m in \u001b[0;36mraw_decode\u001b[0;34m(self, s, idx)\u001b[0m\n\u001b[1;32m    353\u001b[0m             \u001b[0mobj\u001b[0m\u001b[0;34m,\u001b[0m \u001b[0mend\u001b[0m \u001b[0;34m=\u001b[0m \u001b[0mself\u001b[0m\u001b[0;34m.\u001b[0m\u001b[0mscan_once\u001b[0m\u001b[0;34m(\u001b[0m\u001b[0ms\u001b[0m\u001b[0;34m,\u001b[0m \u001b[0midx\u001b[0m\u001b[0;34m)\u001b[0m\u001b[0;34m\u001b[0m\u001b[0;34m\u001b[0m\u001b[0m\n\u001b[1;32m    354\u001b[0m         \u001b[0;32mexcept\u001b[0m \u001b[0mStopIteration\u001b[0m \u001b[0;32mas\u001b[0m \u001b[0merr\u001b[0m\u001b[0;34m:\u001b[0m\u001b[0;34m\u001b[0m\u001b[0;34m\u001b[0m\u001b[0m\n\u001b[0;32m--> 355\u001b[0;31m             \u001b[0;32mraise\u001b[0m \u001b[0mJSONDecodeError\u001b[0m\u001b[0;34m(\u001b[0m\u001b[0;34m\"Expecting value\"\u001b[0m\u001b[0;34m,\u001b[0m \u001b[0ms\u001b[0m\u001b[0;34m,\u001b[0m \u001b[0merr\u001b[0m\u001b[0;34m.\u001b[0m\u001b[0mvalue\u001b[0m\u001b[0;34m)\u001b[0m \u001b[0;32mfrom\u001b[0m \u001b[0;32mNone\u001b[0m\u001b[0;34m\u001b[0m\u001b[0;34m\u001b[0m\u001b[0m\n\u001b[0m\u001b[1;32m    356\u001b[0m         \u001b[0;32mreturn\u001b[0m \u001b[0mobj\u001b[0m\u001b[0;34m,\u001b[0m \u001b[0mend\u001b[0m\u001b[0;34m\u001b[0m\u001b[0;34m\u001b[0m\u001b[0m\n",
      "\u001b[0;31mJSONDecodeError\u001b[0m: Expecting value: line 1 column 1 (char 0)"
     ]
    }
   ],
   "source": [
    "json.loads(r.data.decode('utf-8'))['args']"
   ]
  },
  {
   "cell_type": "code",
   "execution_count": null,
   "id": "83e53399-33dc-4914-8b1f-a682bfcd7661",
   "metadata": {},
   "outputs": [],
   "source": [
    "json.loads(r.data.decode('utf-8'))['headers']"
   ]
  },
  {
   "cell_type": "code",
   "execution_count": 34,
   "id": "c31ea2b4-bb20-4953-935f-f8907479c22e",
   "metadata": {},
   "outputs": [
    {
     "name": "stdout",
     "output_type": "stream",
     "text": [
      "b'{\\n  \"args\": {}, \\n  \"headers\": {\\n    \"Accept\": \"*/*\", \\n    \"Host\": \"httpbin.org\", \\n    \"User-Agent\": \"PycURL/7.43.0.6 libcurl/7.71.1 OpenSSL/1.1.1k zlib/1.2.11 libssh2/1.9.0\", \\n    \"X-Amzn-Trace-Id\": \"Root=1-60e1ac11-488c03cf52a85ecf7f492f2b\"\\n  }, \\n  \"origin\": \"103.142.140.170\", \\n  \"url\": \"https://httpbin.org/get\"\\n}\\n'\n"
     ]
    }
   ],
   "source": [
    "import pycurl\n",
    "# from StringIO import StringIO\n",
    "from io import BytesIO\n",
    "\n",
    "buffer = BytesIO()\n",
    "c = pycurl.Curl()\n",
    "c.setopt(c.URL, 'https://httpbin.org/get')\n",
    "c.setopt(c.WRITEDATA, buffer)\n",
    "c.perform()\n",
    "c.close()\n",
    "\n",
    "body = buffer.getvalue()\n",
    "# Body is a string in some encoding.\n",
    "# In Python 2, we can print it without knowing what the encoding is.\n",
    "print(body)\n",
    "\n",
    "\n"
   ]
  },
  {
   "cell_type": "code",
   "execution_count": 20,
   "id": "1d33aa9f-2295-414e-8973-0e2fa0d38805",
   "metadata": {},
   "outputs": [
    {
     "ename": "TypeError",
     "evalue": "string argument expected, got 'bytes'",
     "output_type": "error",
     "traceback": [
      "\u001b[0;31m---------------------------------------------------------------------------\u001b[0m",
      "\u001b[0;31mTypeError\u001b[0m                                 Traceback (most recent call last)",
      "\u001b[0;31mTypeError\u001b[0m: string argument expected, got 'bytes'"
     ]
    },
    {
     "ename": "error",
     "evalue": "(23, 'Failure writing output to destination')",
     "output_type": "error",
     "traceback": [
      "\u001b[0;31m---------------------------------------------------------------------------\u001b[0m",
      "\u001b[0;31merror\u001b[0m                                     Traceback (most recent call last)",
      "\u001b[0;32m<ipython-input-20-f8e01958ed50>\u001b[0m in \u001b[0;36m<module>\u001b[0;34m\u001b[0m\n\u001b[1;32m      8\u001b[0m \u001b[0mc\u001b[0m\u001b[0;34m.\u001b[0m\u001b[0msetopt\u001b[0m\u001b[0;34m(\u001b[0m\u001b[0mc\u001b[0m\u001b[0;34m.\u001b[0m\u001b[0mWRITEDATA\u001b[0m\u001b[0;34m,\u001b[0m \u001b[0mbuffer\u001b[0m\u001b[0;34m)\u001b[0m\u001b[0;34m\u001b[0m\u001b[0;34m\u001b[0m\u001b[0m\n\u001b[1;32m      9\u001b[0m \u001b[0mc\u001b[0m\u001b[0;34m.\u001b[0m\u001b[0msetopt\u001b[0m\u001b[0;34m(\u001b[0m\u001b[0mc\u001b[0m\u001b[0;34m.\u001b[0m\u001b[0mCAINFO\u001b[0m\u001b[0;34m,\u001b[0m \u001b[0mcertifi\u001b[0m\u001b[0;34m.\u001b[0m\u001b[0mwhere\u001b[0m\u001b[0;34m(\u001b[0m\u001b[0;34m)\u001b[0m\u001b[0;34m)\u001b[0m\u001b[0;34m\u001b[0m\u001b[0;34m\u001b[0m\u001b[0m\n\u001b[0;32m---> 10\u001b[0;31m \u001b[0mc\u001b[0m\u001b[0;34m.\u001b[0m\u001b[0mperform\u001b[0m\u001b[0;34m(\u001b[0m\u001b[0;34m)\u001b[0m\u001b[0;34m\u001b[0m\u001b[0;34m\u001b[0m\u001b[0m\n\u001b[0m\u001b[1;32m     11\u001b[0m \u001b[0mc\u001b[0m\u001b[0;34m.\u001b[0m\u001b[0mclose\u001b[0m\u001b[0;34m(\u001b[0m\u001b[0;34m)\u001b[0m\u001b[0;34m\u001b[0m\u001b[0;34m\u001b[0m\u001b[0m\n\u001b[1;32m     12\u001b[0m \u001b[0;34m\u001b[0m\u001b[0m\n",
      "\u001b[0;31merror\u001b[0m: (23, 'Failure writing output to destination')"
     ]
    }
   ],
   "source": [
    "import pycurl\n",
    "import certifi\n",
    "from io import StringIO\n",
    "\n",
    "buffer = StringIO()\n",
    "c = pycurl.Curl()\n",
    "c.setopt(c.URL, 'https://httpbin.org/get')\n",
    "c.setopt(c.WRITEDATA, buffer)\n",
    "c.setopt(c.CAINFO, certifi.where())\n",
    "c.perform()\n",
    "c.close()\n",
    "\n",
    "body = buffer.getvalue()\n",
    "print(body)"
   ]
  },
  {
   "cell_type": "code",
   "execution_count": 19,
   "id": "11ca6361-53f3-4c78-97a7-b6e3f8efc4f6",
   "metadata": {},
   "outputs": [],
   "source": [
    "import pycurl\n",
    "try:\n",
    "    # python 3\n",
    "    from urllib.parse import urlencode\n",
    "except ImportError:\n",
    "    # python 2\n",
    "    from urllib import urlencode\n",
    "\n",
    "c = pycurl.Curl()\n",
    "c.setopt(c.URL, 'https://httpbin.org/post')\n",
    "\n",
    "post_data = {'field': 'value'}\n",
    "# Form data must be provided already urlencoded.\n",
    "postfields = urlencode(post_data)\n",
    "# Sets request method to POST,\n",
    "# Content-Type header to application/x-www-form-urlencoded\n",
    "# and data to send in request body.\n",
    "c.setopt(c.POSTFIELDS, postfields)\n",
    "\n",
    "c.perform()\n",
    "c.close()\n"
   ]
  },
  {
   "cell_type": "code",
   "execution_count": 25,
   "id": "271f0790-a464-4381-8850-5df42b1ce54b",
   "metadata": {},
   "outputs": [
    {
     "name": "stdout",
     "output_type": "stream",
     "text": [
      "Output of GET request:\n",
      "<!DOCTYPE HTML PUBLIC \"-//W3C//DTD HTML 4.01//EN\" \"http://www.w3.org/TR/html4/strict.dtd\">\n",
      "<html>\n",
      "<head>\n",
      "<meta http-equiv=\"X-UA-Compatible\" content=\"IE=Edge\">\n",
      "<meta name=\"viewport\" content=\"width=device-width, initial-scale=1\">\n",
      "<meta http-equiv=\"Content-Type\" content=\"text/html;charset=utf-8\">\n",
      "<meta name=\"robots\" content=\"index,nofollow\">\n",
      "\n",
      "<title>BeginnersGuide - Python Wiki</title>\n",
      "<script type=\"text/javascript\" src=\"/wiki/common/js/common.js\"></script>\n",
      "\n",
      "<script type=\"text/javascript\">\n",
      "<!--\n",
      "var search_hint = \"Search\";\n",
      "//-->\n",
      "</script>\n",
      "\n",
      "\n",
      "<link rel=\"stylesheet\" type=\"text/css\" charset=\"utf-8\" media=\"all\" href=\"/wiki/europython/css/common.css\">\n",
      "<link rel=\"stylesheet\" type=\"text/css\" charset=\"utf-8\" media=\"screen\" href=\"/wiki/europython/css/screen.css\">\n",
      "<link rel=\"stylesheet\" type=\"text/css\" charset=\"utf-8\" media=\"print\" href=\"/wiki/europython/css/print.css\">\n",
      "<link rel=\"stylesheet\" type=\"text/css\" charset=\"utf-8\" media=\"projection\" href=\"/wiki/europython/css/projection.css\">\n",
      "\n",
      "<!-- css only for MS IE6/IE7 browsers -->\n",
      "<!--[if lt IE 8]>\n",
      "   <link rel=\"stylesheet\" type=\"text/css\" charset=\"utf-8\" media=\"all\" href=\"/wiki/europython/css/msie.css\">\n",
      "<![endif]-->\n",
      "\n",
      "\n",
      "<link rel=\"alternate\" title=\"Python Wiki: BeginnersGuide\" href=\"/moin/BeginnersGuide?diffs=1&amp;show_att=1&amp;action=rss_rc&amp;unique=0&amp;page=BeginnersGuide&amp;ddiffs=1\" type=\"application/rss+xml\">\n",
      "\n",
      "\n",
      "<link rel=\"Start\" href=\"/moin/FrontPage\">\n",
      "<link rel=\"Alternate\" title=\"Wiki Markup\" href=\"/moin/BeginnersGuide?action=raw\">\n",
      "<link rel=\"Alternate\" media=\"print\" title=\"Print View\" href=\"/moin/BeginnersGuide?action=print\">\n",
      "<link rel=\"Search\" href=\"/moin/FindPage\">\n",
      "<link rel=\"Index\" href=\"/moin/TitleIndex\">\n",
      "<link rel=\"Glossary\" href=\"/moin/WordIndex\">\n",
      "<link rel=\"Help\" href=\"/moin/HelpOnFormatting\">\n",
      "</head>\n",
      "\n",
      "<body  lang=\"en\" dir=\"ltr\">\n",
      "\n",
      "<div id=\"header\">\n",
      "\n",
      "<form id=\"searchform\" method=\"get\" action=\"/moin/BeginnersGuide\">\n",
      "<div>\n",
      "<input type=\"hidden\" name=\"action\" value=\"fullsearch\">\n",
      "<input type=\"hidden\" name=\"context\" value=\"180\">\n",
      "<label for=\"searchinput\">Search:</label>\n",
      "<input id=\"searchinput\" type=\"text\" name=\"value\" value=\"\" size=\"20\"\n",
      "    onfocus=\"searchFocus(this)\" onblur=\"searchBlur(this)\"\n",
      "    onkeyup=\"searchChange(this)\" onchange=\"searchChange(this)\" alt=\"Search\">\n",
      "<input id=\"titlesearch\" name=\"titlesearch\" type=\"submit\"\n",
      "    value=\"Titles\" alt=\"Search Titles\">\n",
      "<input id=\"fullsearch\" name=\"fullsearch\" type=\"submit\"\n",
      "    value=\"Text\" alt=\"Search Full Text\">\n",
      "</div>\n",
      "</form>\n",
      "<script type=\"text/javascript\">\n",
      "<!--// Initialize search form\n",
      "var f = document.getElementById('searchform');\n",
      "f.getElementsByTagName('label')[0].style.display = 'none';\n",
      "var e = document.getElementById('searchinput');\n",
      "searchChange(e);\n",
      "searchBlur(e);\n",
      "//-->\n",
      "</script>\n",
      "\n",
      "<div id=\"logo\"><a href=\"/moin/FrontPage\"></a><a href=\"http://www.python.org\"><img src=\"/wiki/europython/img/python-logo.gif\" alt=\"Python\" ></a><a name=\"logo\"></a></div>\n",
      "<div id=\"locationline\">\n",
      "\n",
      "\n",
      "<ul id=\"pagelocation\">\n",
      "<li><a href=\"/moin/BeginnersGuide\">BeginnersGuide</a></li>\n",
      "</ul>\n",
      "\n",
      "</div>\n",
      "\n",
      "<ul id=\"pagetrail\">\n",
      "<li><a href=\"/moin/BeginnersGuide\">BeginnersGuide</a></li>\n",
      "</ul>\n",
      "</div>\n",
      "\n",
      "<div id=\"sidebar\">\n",
      "<div id=\"star\">\n",
      "\n",
      "</div>\n",
      "<div class=\"sidepanel\">\n",
      "\n",
      "<ul id=\"navibar\">\n",
      "<li class=\"wikilink\"><a href=\"/moin/FrontPage\">FrontPage</a></li><li class=\"wikilink\"><a href=\"/moin/RecentChanges\">RecentChanges</a></li><li class=\"wikilink\"><a href=\"/moin/FindPage\">FindPage</a></li><li class=\"wikilink\"><a href=\"/moin/HelpContents\">HelpContents</a></li><li class=\"current\"><a href=\"/moin/BeginnersGuide\">BeginnersGuide</a></li>\n",
      "</ul>\n",
      "\n",
      "</div>\n",
      "<div class=\"sidepanel\">\n",
      "<h1>Page</h1>\n",
      "<ul class=\"editbar\"><li><span class=\"disabled\">Immutable Page</span></li><li class=\"toggleCommentsButton\" style=\"display:none;\"><a href=\"#\" class=\"nbcomment\" onClick=\"toggleComments();return false;\">Comments</a></li><li><a class=\"nbinfo\" href=\"/moin/BeginnersGuide?action=info\" rel=\"nofollow\">Info</a></li><li><a class=\"nbattachments\" href=\"/moin/BeginnersGuide?action=AttachFile\" rel=\"nofollow\">Attachments</a></li><li>\n",
      "<form class=\"actionsmenu\" method=\"GET\" action=\"/moin/BeginnersGuide\">\n",
      "<div>\n",
      "    <label>More Actions:</label>\n",
      "    <select name=\"action\"\n",
      "        onchange=\"if ((this.selectedIndex != 0) &&\n",
      "                      (this.options[this.selectedIndex].disabled == false)) {\n",
      "                this.form.submit();\n",
      "            }\n",
      "            this.selectedIndex = 0;\">\n",
      "        <option value=\"raw\">Raw Text</option>\n",
      "<option value=\"print\">Print View</option>\n",
      "<option value=\"refresh\">Delete Cache</option>\n",
      "<option value=\"show\" disabled class=\"disabled\">------------------------</option>\n",
      "<option value=\"SpellCheck\">Check Spelling</option>\n",
      "<option value=\"LikePages\">Like Pages</option>\n",
      "<option value=\"LocalSiteMap\">Local Site Map</option>\n",
      "<option value=\"show\" disabled class=\"disabled\">------------------------</option>\n",
      "<option value=\"RenamePage\" disabled class=\"disabled\">Rename Page</option>\n",
      "<option value=\"DeletePage\" disabled class=\"disabled\">Delete Page</option>\n",
      "<option value=\"show\" disabled class=\"disabled\">------------------------</option>\n",
      "<option value=\"show\" disabled class=\"disabled\">------------------------</option>\n",
      "<option value=\"show\" disabled class=\"disabled\">Remove Spam</option>\n",
      "<option value=\"show\" disabled class=\"disabled\">Revert to this revision</option>\n",
      "<option value=\"show\" disabled class=\"disabled\">------------------------</option>\n",
      "<option value=\"SlideShow\">SlideShow</option>\n",
      "    </select>\n",
      "    <input type=\"submit\" value=\"Do\">\n",
      "    \n",
      "</div>\n",
      "<script type=\"text/javascript\">\n",
      "<!--// Init menu\n",
      "actionsMenuInit('More Actions:');\n",
      "//-->\n",
      "</script>\n",
      "</form>\n",
      "</li></ul>\n",
      "\n",
      "</div>\n",
      "<div class=\"sidepanel\">\n",
      "<h1>User</h1>\n",
      "<ul id=\"username\"><li><a href=\"/moin/BeginnersGuide?action=login\" id=\"login\" rel=\"nofollow\">Login</a></li></ul>\n",
      "</div>\n",
      "</div>\n",
      "\n",
      "<div id=\"page\" lang=\"en\" dir=\"ltr\">\n",
      "<div dir=\"ltr\" id=\"content\" lang=\"en\"><span class=\"anchor\" id=\"top\"></span>\n",
      "<span class=\"anchor\" id=\"line-1\"></span><p class=\"line867\">\n",
      "<h1 id=\"Beginner.27s_Guide_to_Python\">Beginner's Guide to Python</h1>\n",
      "<span class=\"anchor\" id=\"line-2\"></span><p class=\"line874\">New to programming? Python is free and easy to learn if you know where to start! This guide will help you to get started quickly. <span class=\"anchor\" id=\"line-3\"></span><span class=\"anchor\" id=\"line-4\"></span><p class=\"line867\"><a href=\"/moin/BeginnersGuideChinese\">Chinese Translation</a> <span class=\"anchor\" id=\"line-5\"></span><span class=\"anchor\" id=\"line-6\"></span><p class=\"line867\">\n",
      "<h2 id=\"New_to_Python.3F\">New to Python?</h2>\n",
      "<span class=\"anchor\" id=\"line-7\"></span><p class=\"line862\">Read <a href=\"/moin/BeginnersGuide/Overview\">BeginnersGuide/Overview</a> for a short explanation of what Python is. <span class=\"anchor\" id=\"line-8\"></span><span class=\"anchor\" id=\"line-9\"></span><p class=\"line867\">\n",
      "<h2 id=\"Getting_Python\">Getting Python</h2>\n",
      "<span class=\"anchor\" id=\"line-10\"></span><p class=\"line862\">Next, install the Python 3 interpreter on your computer. This is the program that reads Python programs and carries out their instructions; you need it before you can do any Python programming. Mac and Linux distributions may include an outdated version of Python (Python 2), but you should install an updated one (Python 3). See <a href=\"/moin/BeginnersGuide/Download\">BeginnersGuide/Download</a> for instructions to download the correct version of Python. <span class=\"anchor\" id=\"line-11\"></span><span class=\"anchor\" id=\"line-12\"></span><p class=\"line862\">There are also Python interpreter and IDE bundles available, such as <a class=\"http\" href=\"http://thonny.org\">Thonny</a>. Other options can be found at <a href=\"/moin/IntegratedDevelopmentEnvironments\">IntegratedDevelopmentEnvironments</a>. <span class=\"anchor\" id=\"line-13\"></span><span class=\"anchor\" id=\"line-14\"></span><p class=\"line862\">At some stage, you'll want to edit and save your program code. Take a look at <a href=\"/moin/HowToEditPythonCode\">HowToEditPythonCode</a> for some advice and recommendations. <span class=\"anchor\" id=\"line-15\"></span><span class=\"anchor\" id=\"line-16\"></span><p class=\"line867\">\n",
      "<h2 id=\"Learning_Python\">Learning Python</h2>\n",
      "<span class=\"anchor\" id=\"line-17\"></span><p class=\"line874\">Next, read a tutorial and try some simple experiments with your new Python interpreter. <span class=\"anchor\" id=\"line-18\"></span><span class=\"anchor\" id=\"line-19\"></span><ul><li><p class=\"line862\">If you have never programmed before, see <a href=\"/moin/BeginnersGuide/NonProgrammers\">BeginnersGuide/NonProgrammers</a> for a list of suitable tutorials. <span class=\"anchor\" id=\"line-20\"></span></li><li><p class=\"line862\">If you have previous programming experience, consult <a href=\"/moin/BeginnersGuide/Programmers\">BeginnersGuide/Programmers</a>, which lists more advanced tutorials. <span class=\"anchor\" id=\"line-21\"></span></li><li><p class=\"line862\">If English isn't your first language, you might be more comfortable with a tutorial that's been translated into your language. Consult python.org's <a href=\"/moin/Languages\">list of Non-English resources</a>. <span class=\"anchor\" id=\"line-22\"></span><span class=\"anchor\" id=\"line-23\"></span></li></ul><p class=\"line862\">Most tutorials assume that you know how to run a program on your computer. If you are using Windows and need help with this, see <a class=\"http\" href=\"http://www.python.org/doc/faq/windows/#how-do-i-run-a-python-program-under-windows\">How do I Run a Program Under Windows</a>. <span class=\"anchor\" id=\"line-24\"></span><span class=\"anchor\" id=\"line-25\"></span><p class=\"line874\">Some sites offer in-browser coding for those who want to learn Python: <span class=\"anchor\" id=\"line-26\"></span><span class=\"anchor\" id=\"line-27\"></span><p class=\"line867\"><span class=\"comment\" style=\"display:none\">please keep this list alphabetized</span> <span class=\"anchor\" id=\"line-28\"></span><span class=\"anchor\" id=\"line-29\"></span><ul><li><p class=\"line891\"><a class=\"https\" href=\"https://www.codecademy.com/learn/learn-python\">Codecademy</a> <span class=\"anchor\" id=\"line-30\"></span><span class=\"anchor\" id=\"line-31\"></span></li><li class=\"gap\"><p class=\"line891\"><a class=\"https\" href=\"https://coding-bootcamps.com\">Coding Bootcamps</a> <span class=\"anchor\" id=\"line-32\"></span><span class=\"anchor\" id=\"line-33\"></span></li><li class=\"gap\"><p class=\"line891\"><a class=\"http\" href=\"http://www.datacamp.com\">DataCamp</a> <span class=\"anchor\" id=\"line-34\"></span><span class=\"anchor\" id=\"line-35\"></span></li><li class=\"gap\"><p class=\"line891\"><a class=\"https\" href=\"https://www.dataquest.io\">Dataquest</a> for Python for data science. <span class=\"anchor\" id=\"line-36\"></span><span class=\"anchor\" id=\"line-37\"></span></li><li class=\"gap\"><p class=\"line891\"><a class=\"https\" href=\"https://hackinscience.org\">HackInScience</a> free and open source platform. <span class=\"anchor\" id=\"line-38\"></span><span class=\"anchor\" id=\"line-39\"></span></li><li class=\"gap\"><p class=\"line891\"><a class=\"https\" href=\"https://myhsts.org\">High School Technology Services</a> for general Python <span class=\"anchor\" id=\"line-40\"></span><span class=\"anchor\" id=\"line-41\"></span></li></ul><p class=\"line862\">Print a <a class=\"https\" href=\"https://blog.finxter.com/python-cheat-sheet/\">cheat sheet</a> of the most important Python features and post it to your office wall until you know the basics well. <span class=\"anchor\" id=\"line-42\"></span><span class=\"anchor\" id=\"line-43\"></span><p class=\"line862\">Once you have read a tutorial, you can browse through <a class=\"http\" href=\"http://docs.python.org\">Python's online documentation</a>. It includes <a class=\"http\" href=\"http://docs.python.org/tut/\">a tutorial</a> that might come in handy, <a class=\"http\" href=\"http://docs.python.org//lib/\">a Library Reference</a> that lists all of the modules that come standard with Python, and <a class=\"http\" href=\"http://docs.python.org/ref/\">the Language Reference</a> for a complete (if rather dry) explanation of Python's syntax. <span class=\"anchor\" id=\"line-44\"></span><span class=\"anchor\" id=\"line-45\"></span><p class=\"line862\">When you are ready to write your first program, you will need a <a href=\"/moin/PythonEditors\">text editor</a> or an <a href=\"/moin/IntegratedDevelopmentEnvironments\">IDE</a>. If you don't want to use Thonny or something more advanced, then you can use <a class=\"https\" href=\"https://docs.python.org/3/library/idle.html\">IDLE</a>, which is bundled with Python and supports <a class=\"http\" href=\"http://idlex.sourceforge.net\">extensions</a>. <span class=\"anchor\" id=\"line-46\"></span><span class=\"anchor\" id=\"line-47\"></span><p class=\"line862\">This Python wiki also contains a page about <a href=\"/moin/Powerful%20Python%20One-Liners\">Python One-Liners</a> -- an obscure but interesting subculture in Python. <span class=\"anchor\" id=\"line-48\"></span><span class=\"anchor\" id=\"line-49\"></span><p class=\"line867\">\n",
      "<h2 id=\"Need_Help.3F\">Need Help?</h2>\n",
      "<span class=\"anchor\" id=\"line-50\"></span><p class=\"line862\">Need help with any of this? Read <a href=\"/moin/BeginnersGuide/Help\">BeginnersGuide/Help</a> for mailing lists and newsgroups. <span class=\"anchor\" id=\"line-51\"></span><span class=\"anchor\" id=\"line-52\"></span><p class=\"line862\">Most Python books will include an introduction to the language; see <a href=\"/moin/IntroductoryBooks\">IntroductoryBooks</a> for suggested titles. <span class=\"anchor\" id=\"line-53\"></span><span class=\"anchor\" id=\"line-54\"></span><p class=\"line862\">Consult <a href=\"/moin/BeginnersGuide/Examples\">BeginnersGuide/Examples</a> for small programs and little snippets of code that can help you learn. <span class=\"anchor\" id=\"line-55\"></span><span class=\"anchor\" id=\"line-56\"></span><p class=\"line862\">Or, if you prefer to learn Python through listening to a lecture, you can attend a training course or even hire a trainer to come to your company. Consult the <a href=\"/moin/PythonEvents\">PythonEvents</a> page to see if any training courses are scheduled in your area and the <a href=\"/moin/PythonTraining\">PythonTraining</a> page for a list of trainers. <span class=\"anchor\" id=\"line-57\"></span><span class=\"anchor\" id=\"line-58\"></span><p class=\"line862\">Teachers can join the <a class=\"http\" href=\"http://www.python.org/sigs/edu-sig/\">EDU-SIG</a>, a mailing list for discussion of Python's use in teaching at any level ranging from K-12 up to university. <span class=\"anchor\" id=\"line-59\"></span><span class=\"anchor\" id=\"line-60\"></span><p class=\"line867\">\n",
      "<h2 id=\"Complete_list_of_Beginner.27s_Guide_pages\">Complete list of Beginner's Guide pages</h2>\n",
      "<span class=\"anchor\" id=\"line-61\"></span><p class=\"line867\"><div class=\"searchresults\">\n",
      "<ol start=\"1\"><li><a href=\"/moin/BeginnersGuide/Download\"><strong>BeginnersGuide/</strong>Download</a></li><li><a href=\"/moin/BeginnersGuide/Examples\"><strong>BeginnersGuide/</strong>Examples</a></li><li><a href=\"/moin/BeginnersGuide/Help\"><strong>BeginnersGuide/</strong>Help</a></li><li><a href=\"/moin/BeginnersGuide/Mathematics\"><strong>BeginnersGuide/</strong>Mathematics</a></li><li><a href=\"/moin/BeginnersGuide/NonProgrammers\"><strong>BeginnersGuide/</strong>NonProgrammers</a></li><li><a href=\"/moin/BeginnersGuide/Overview\"><strong>BeginnersGuide/</strong>Overview</a></li><li><a href=\"/moin/BeginnersGuide/Programmers\"><strong>BeginnersGuide/</strong>Programmers</a></li><li><a href=\"/moin/BeginnersGuide/Programmers?action=AttachFile&amp;do=view&amp;target=Cpp2Python.pdf\">BeginnersGuide/Programmers <strong>(Cpp2Python.pdf)</strong></a></li><li><a href=\"/moin/BeginnersGuide/Programmers/SimpleExamples\"><strong>BeginnersGuide/</strong>Programmers/SimpleExamples</a></li></ol>\n",
      "</div> <span class=\"anchor\" id=\"line-62\"></span><span class=\"anchor\" id=\"line-63\"></span><p class=\"line867\">\n",
      "<h2 id=\"Quiz_and_Exercises\">Quiz and Exercises</h2>\n",
      "<span class=\"anchor\" id=\"line-64\"></span><ul><li><p class=\"line862\">Finxter - <a class=\"https\" href=\"https://finxter.com\">How good are your Python skills? Test and Training with a Daily Python Puzzle</a> <span class=\"anchor\" id=\"line-65\"></span></li><li><p class=\"line862\">CheckIO - <a class=\"http\" href=\"http://www.checkio.org\">Online learning, testing and improving your python skills</a> <span class=\"anchor\" id=\"line-66\"></span></li><li><p class=\"line862\">After Hours Programming - <a class=\"http\" href=\"http://www.afterhoursprogramming.com/tutorial/Python/Python-Quiz/\">Python Quiz</a> <span class=\"anchor\" id=\"line-67\"></span></li><li><p class=\"line862\">Python Guru Quiz- <a class=\"http\" href=\"http://thepythonguru.com/python-guru-quiz/\">Python Quiz</a> <span class=\"anchor\" id=\"line-68\"></span></li><li><p class=\"line862\">Pyschools - <a class=\"http\" href=\"http://www.pyschools.com\">A Collection of Python Quiz and Exercise Questions</a> <span class=\"anchor\" id=\"line-69\"></span></li><li><p class=\"line862\">PyGUI - <a class=\"http\" href=\"http://www.pythongui.com\">Collection of python quiz answers, Examples And GUI Tkinter Tutorials For Beginners</a> <span class=\"anchor\" id=\"line-70\"></span></li><li><p class=\"line862\">Pythonspot - <a class=\"https\" href=\"https://pythonspot.com/python-tests-quizes/\">Python Quiz</a> <span class=\"anchor\" id=\"line-71\"></span></li><li><p class=\"line862\">Python Challenge - <a class=\"https\" href=\"https://play.google.com/store/apps/details?id=sg.apps.garden.pythonchallenge\">A Python Quiz App on Android Platform</a> <span class=\"anchor\" id=\"line-72\"></span></li><li><p class=\"line891\"><a class=\"http\" href=\"http://cscircles.cemc.uwaterloo.ca\">CS Circles - online lessons and graded exercises</a> <span class=\"anchor\" id=\"line-73\"></span><span class=\"anchor\" id=\"line-74\"></span></li></ul><p class=\"line867\">\n",
      "<h2 id=\"Python_Style_Checker\">Python Style Checker</h2>\n",
      "<span class=\"anchor\" id=\"line-75\"></span><ul><li><p class=\"line891\"><a class=\"http\" href=\"http://pythonchecker.com/\">Pythonchecker.com</a> - An educative online tool to rate your Python style (with dynamic score computation and hints) <span class=\"anchor\" id=\"line-76\"></span><span class=\"anchor\" id=\"line-77\"></span></li></ul><p class=\"line867\">\n",
      "<h2 id=\"Looking_for_a_particular_Python_module_or_application.3F\">Looking for a particular Python module or application?</h2>\n",
      "<span class=\"anchor\" id=\"line-78\"></span><ul><li><p class=\"line862\">The first place to look is the <a class=\"http\" href=\"http://pypi.python.org/pypi\">Python Package Index</a>. <span class=\"anchor\" id=\"line-79\"></span><span class=\"anchor\" id=\"line-80\"></span></li><li class=\"gap\">If you can't find anything relevant in the Package Index, <span class=\"anchor\" id=\"line-81\"></span><p class=\"line862\">try <a class=\"http\" href=\"http://www.python.org/search/\">searching python.org</a> - you can find anything mentioned on the Python site, in the <a class=\"http\" href=\"http://www.python.org/doc/faq/\">FAQs</a>, or in the newsgroup. More info: <a class=\"http\" href=\"http://www.python.org/search/\">where to search</a>. <span class=\"anchor\" id=\"line-82\"></span><span class=\"anchor\" id=\"line-83\"></span></li><li class=\"gap\"><p class=\"line862\">You may also try our external guest project, <a class=\"http\" href=\"http://pydoc.net/\">pydoc.net</a>, for advanced package and module search. <span class=\"anchor\" id=\"line-84\"></span><span class=\"anchor\" id=\"line-85\"></span></li><li class=\"gap\"><p class=\"line862\">Next, try <a class=\"http\" href=\"http://www.google.com\">Google</a> or another search engine of your choice. Searching for &quot;python&quot; and some relevant keywords will usually find something helpful. <span class=\"anchor\" id=\"line-86\"></span><span class=\"anchor\" id=\"line-87\"></span></li><li class=\"gap\">Finally, you can try posting a query to the comp.lang.python Usenet group. <span class=\"anchor\" id=\"line-88\"></span><span class=\"anchor\" id=\"line-89\"></span></li></ul><p class=\"line867\">\n",
      "<h2 id=\"Python-Related_Cheat_Sheets\">Python-Related Cheat Sheets</h2>\n",
      "<span class=\"anchor\" id=\"line-90\"></span><ul><li><p class=\"line862\">Python: <a class=\"https\" href=\"https://blog.finxter.com/collection-5-cheat-sheets-every-python-coder-must-own/\">Collection of 11 Best Python Cheat Sheets</a> <span class=\"anchor\" id=\"line-91\"></span><span class=\"anchor\" id=\"line-92\"></span></li><li class=\"gap\"><p class=\"line891\"><a href=\"/moin/NumPy\">NumPy</a>: <a class=\"https\" href=\"https://blog.finxter.com/collection-10-best-numpy-cheat-sheets-every-python-coder-must-own/\">Collection of 10 Best NumPy Cheat Sheets</a> <span class=\"anchor\" id=\"line-93\"></span><span class=\"anchor\" id=\"line-94\"></span></li><li class=\"gap\"><p class=\"line862\">Pandas: <a class=\"https\" href=\"https://blog.finxter.com/pandas-cheat-sheets/\">Collection of 7 Beautiful Pandas Cheat Sheets</a> <span class=\"anchor\" id=\"line-95\"></span><span class=\"anchor\" id=\"line-96\"></span></li><li class=\"gap\"><p class=\"line862\">Machine Learning: <a class=\"https\" href=\"https://blog.finxter.com/machine-learning-cheat-sheets/\">Collection of 15 Machine Learning Cheat Sheets</a> <span class=\"anchor\" id=\"line-97\"></span><span class=\"anchor\" id=\"line-98\"></span></li></ul><p class=\"line867\">\n",
      "<h2 id=\"Want_to_contribute.3F\">Want to contribute?</h2>\n",
      "<span class=\"anchor\" id=\"line-99\"></span><ul><li><p class=\"line862\">Python is a product of the <a class=\"http\" href=\"http://www.python.org/psf/\">Python Software Foundation</a>, a non-profit organization that holds the copyright. <a class=\"http\" href=\"http://www.python.org/psf/donations/\">Donations to the PSF</a> are tax-deductible in the USA, and you can donate via credit card or <a class=\"nonexistent\" href=\"/moin/PayPal\">PayPal</a>. <span class=\"anchor\" id=\"line-100\"></span><span class=\"anchor\" id=\"line-101\"></span></li><li class=\"gap\"><p class=\"line862\">To report a bug in the Python core, use the <a class=\"http\" href=\"http://bugs.python.org/\">Python Bug Tracker</a>. <span class=\"anchor\" id=\"line-102\"></span><span class=\"anchor\" id=\"line-103\"></span></li><li class=\"gap\"><p class=\"line862\">To contribute a bug fix or other patch to the Python core, read the <a class=\"http\" href=\"http://www.python.org/dev/\">Python Developer's Guide</a> for more information about Python's development process. <span class=\"anchor\" id=\"line-104\"></span><span class=\"anchor\" id=\"line-105\"></span></li><li class=\"gap\"><p class=\"line862\">To contribute to the official <a class=\"http\" href=\"http://www.python.org/doc/\">Python documentation</a>, join the <a class=\"http\" href=\"http://www.python.org/sigs/doc-sig/\">Documentation SIG</a>, write to <a class=\"mailto\" href=\"mailto:docs@python.org\">docs@python.org</a> , or use the <a class=\"http\" href=\"http://bugs.python.org/\">Issue Tracker</a> to contribute a documentation patch. <span class=\"anchor\" id=\"line-106\"></span><span class=\"anchor\" id=\"line-107\"></span></li><li class=\"gap\"><p class=\"line862\">To announce your module or application to the Python community, use <a class=\"news\" href=\"news:comp.lang.python.announce\">comp.lang.python.announce</a>. See <a class=\"http\" href=\"http://www.python.org/community/lists/#comp-lang-python-announce\">the guide to Python mailing lists</a> for more information. <span class=\"anchor\" id=\"line-108\"></span><span class=\"anchor\" id=\"line-109\"></span></li><li class=\"gap\"><p class=\"line862\">To propose changes to the Python core, post your thoughts to <a class=\"news\" href=\"news:comp.lang.python\">comp.lang.python</a>. If you have an implementation, follow the <a class=\"http\" href=\"http://www.python.org/patches/\">Python Patch Guidelines</a>. <span class=\"anchor\" id=\"line-110\"></span><span class=\"anchor\" id=\"line-111\"></span></li><li class=\"gap\"><p class=\"line862\">If you have a question are not sure where to report it, check out the <a href=\"/moin/WhereDoIReportThis%3F\">WhereDoIReportThis?</a> page. <span class=\"anchor\" id=\"line-112\"></span><span class=\"anchor\" id=\"line-113\"></span></li></ul><p class=\"line867\"><hr /><p class=\"line874\"> <span class=\"anchor\" id=\"line-114\"></span><a href=\"/moin/CategoryDocumentation\">CategoryDocumentation</a> <span class=\"anchor\" id=\"line-115\"></span><span class=\"anchor\" id=\"bottom\"></span></div><p id=\"pageinfo\" class=\"info\" lang=\"en\" dir=\"ltr\">BeginnersGuide  (last edited 2020-07-04 14:00:41 by <span title=\"ChrisM @ mue-88-130-62-169.dsl.tropolys.de[88.130.62.169]\"><a class=\"nonexistent\" href=\"/moin/ChrisM\" title=\"ChrisM @ mue-88-130-62-169.dsl.tropolys.de[88.130.62.169]\">ChrisM</a></span>)</p>\n",
      "\n",
      "<div id=\"pagebottom\"></div>\n",
      "</div>\n",
      "\n",
      "\n",
      "<div id=\"footer\">\n",
      "<ul id=\"credits\">\n",
      "<li><a href=\"http://moinmo.in/\" title=\"This site uses the MoinMoin Wiki software.\">MoinMoin Powered</a></li><li><a href=\"http://moinmo.in/Python\" title=\"MoinMoin is written in Python.\">Python Powered</a></li><li><a href=\"http://moinmo.in/GPL\" title=\"MoinMoin is GPL licensed.\">GPL licensed</a></li><li><a href=\"http://validator.w3.org/check?uri=referer\" title=\"Click here to validate this page.\">Valid HTML 4.01</a></li>\n",
      "</ul>\n",
      "\n",
      "\n",
      "</div>\n",
      "<p style=\"text-align: center; font-size: 85%\"><a href=\"/moin/FrontPage#use\">Unable to edit the page? See the FrontPage for instructions.</a></p></body>\n",
      "</html>\n",
      "\n",
      "\n"
     ]
    }
   ],
   "source": [
    "import pycurl\n",
    "from io import BytesIO \n",
    "\n",
    "b_obj = BytesIO() \n",
    "crl = pycurl.Curl() \n",
    "\n",
    "# Set URL value\n",
    "crl.setopt(crl.URL, 'https://wiki.python.org/moin/BeginnersGuide')\n",
    "\n",
    "# Write bytes that are utf-8 encoded\n",
    "crl.setopt(crl.WRITEDATA, b_obj)\n",
    "\n",
    "# Perform a file transfer \n",
    "crl.perform() \n",
    "\n",
    "# End curl session\n",
    "crl.close()\n",
    "\n",
    "# Get the content stored in the BytesIO object (in byte characters) \n",
    "get_body = b_obj.getvalue()\n",
    "\n",
    "# Decode the bytes stored in get_body to HTML and print the result \n",
    "print('Output of GET request:\\n%s' % get_body.decode('utf8')) "
   ]
  },
  {
   "cell_type": "code",
   "execution_count": 55,
   "id": "6751bbda-09af-4958-805e-2d23ef30cc04",
   "metadata": {},
   "outputs": [
    {
     "name": "stdout",
     "output_type": "stream",
     "text": [
      "Status: 200\n",
      "Time: 0.755208\n",
      "0.006107\n"
     ]
    }
   ],
   "source": [
    "import pycurl\n",
    "try:\n",
    "    from io import BytesIO\n",
    "except ImportError:\n",
    "    from StringIO import StringIO as BytesIO\n",
    "\n",
    "buffer = BytesIO()\n",
    "c = pycurl.Curl()\n",
    "c.setopt(c.URL, 'http://pycurl.io/')\n",
    "c.setopt(c.WRITEDATA, buffer)\n",
    "c.perform()\n",
    "\n",
    "# HTTP response code, e.g. 200.\n",
    "print('Status: %d' % c.getinfo(c.RESPONSE_CODE))\n",
    "# Elapsed time for the transfer.\n",
    "print('Time: %f' % c.getinfo(c.TOTAL_TIME))\n",
    "\n",
    "print(c.getinfo(c.CONNECT_TIME))\n",
    "\n",
    "# getinfo must be called before close.\n",
    "c.close()"
   ]
  },
  {
   "cell_type": "code",
   "execution_count": 57,
   "id": "91403696-7e2f-4a18-93e3-4b8e5e9a8e50",
   "metadata": {},
   "outputs": [
    {
     "name": "stdout",
     "output_type": "stream",
     "text": [
      "b'<!DOCTYPE html>\\n<html lang=\"en\">\\n\\n<head>\\n    <meta charset=\"UTF-8\">\\n    <title>httpbin.org</title>\\n    <link href=\"https://fonts.googleapis.com/css?family=Open+Sans:400,700|Source+Code+Pro:300,600|Titillium+Web:400,600,700\"\\n        rel=\"stylesheet\">\\n    <link rel=\"stylesheet\" type=\"text/css\" href=\"/flasgger_static/swagger-ui.css\">\\n    <link rel=\"icon\" type=\"image/png\" href=\"/static/favicon.ico\" sizes=\"64x64 32x32 16x16\" />\\n    <style>\\n        html {\\n            box-sizing: border-box;\\n            overflow: -moz-scrollbars-vertical;\\n            overflow-y: scroll;\\n        }\\n\\n        *,\\n        *:before,\\n        *:after {\\n            box-sizing: inherit;\\n        }\\n\\n        body {\\n            margin: 0;\\n            background: #fafafa;\\n        }\\n    </style>\\n</head>\\n\\n<body>\\n    <a href=\"https://github.com/requests/httpbin\" class=\"github-corner\" aria-label=\"View source on Github\">\\n        <svg width=\"80\" height=\"80\" viewBox=\"0 0 250 250\" style=\"fill:#151513; color:#fff; position: absolute; top: 0; border: 0; right: 0;\"\\n            aria-hidden=\"true\">\\n            <path d=\"M0,0 L115,115 L130,115 L142,142 L250,250 L250,0 Z\"></path>\\n            <path d=\"M128.3,109.0 C113.8,99.7 119.0,89.6 119.0,89.6 C122.0,82.7 120.5,78.6 120.5,78.6 C119.2,72.0 123.4,76.3 123.4,76.3 C127.3,80.9 125.5,87.3 125.5,87.3 C122.9,97.6 130.6,101.9 134.4,103.2\"\\n                fill=\"currentColor\" style=\"transform-origin: 130px 106px;\" class=\"octo-arm\"></path>\\n            <path d=\"M115.0,115.0 C114.9,115.1 118.7,116.5 119.8,115.4 L133.7,101.6 C136.9,99.2 139.9,98.4 142.2,98.6 C133.8,88.0 127.5,74.4 143.8,58.0 C148.5,53.4 154.0,51.2 159.7,51.0 C160.3,49.4 163.2,43.6 171.4,40.1 C171.4,40.1 176.1,42.5 178.8,56.2 C183.1,58.6 187.2,61.8 190.9,65.4 C194.5,69.0 197.7,73.2 200.1,77.6 C213.8,80.2 216.3,84.9 216.3,84.9 C212.7,93.1 206.9,96.0 205.4,96.6 C205.1,102.4 203.0,107.8 198.3,112.5 C181.9,128.9 168.3,122.5 157.7,114.1 C157.9,116.9 156.7,120.9 152.7,124.9 L141.0,136.5 C139.8,137.7 141.6,141.9 141.8,141.8 Z\"\\n                fill=\"currentColor\" class=\"octo-body\"></path>\\n        </svg>\\n    </a>\\n    <svg xmlns=\"http://www.w3.org/2000/svg\" xmlns:xlink=\"http://www.w3.org/1999/xlink\" style=\"position:absolute;width:0;height:0\">\\n        <defs>\\n            <symbol viewBox=\"0 0 20 20\" id=\"unlocked\">\\n                <path d=\"M15.8 8H14V5.6C14 2.703 12.665 1 10 1 7.334 1 6 2.703 6 5.6V6h2v-.801C8 3.754 8.797 3 10 3c1.203 0 2 .754 2 2.199V8H4c-.553 0-1 .646-1 1.199V17c0 .549.428 1.139.951 1.307l1.197.387C5.672 18.861 6.55 19 7.1 19h5.8c.549 0 1.428-.139 1.951-.307l1.196-.387c.524-.167.953-.757.953-1.306V9.199C17 8.646 16.352 8 15.8 8z\"></path>\\n            </symbol>\\n\\n            <symbol viewBox=\"0 0 20 20\" id=\"locked\">\\n                <path d=\"M15.8 8H14V5.6C14 2.703 12.665 1 10 1 7.334 1 6 2.703 6 5.6V8H4c-.553 0-1 .646-1 1.199V17c0 .549.428 1.139.951 1.307l1.197.387C5.672 18.861 6.55 19 7.1 19h5.8c.549 0 1.428-.139 1.951-.307l1.196-.387c.524-.167.953-.757.953-1.306V9.199C17 8.646 16.352 8 15.8 8zM12 8H8V5.199C8 3.754 8.797 3 10 3c1.203 0 2 .754 2 2.199V8z\"\\n                />\\n            </symbol>\\n\\n            <symbol viewBox=\"0 0 20 20\" id=\"close\">\\n                <path d=\"M14.348 14.849c-.469.469-1.229.469-1.697 0L10 11.819l-2.651 3.029c-.469.469-1.229.469-1.697 0-.469-.469-.469-1.229 0-1.697l2.758-3.15-2.759-3.152c-.469-.469-.469-1.228 0-1.697.469-.469 1.228-.469 1.697 0L10 8.183l2.651-3.031c.469-.469 1.228-.469 1.697 0 .469.469.469 1.229 0 1.697l-2.758 3.152 2.758 3.15c.469.469.469 1.229 0 1.698z\"\\n                />\\n            </symbol>\\n\\n            <symbol viewBox=\"0 0 20 20\" id=\"large-arrow\">\\n                <path d=\"M13.25 10L6.109 2.58c-.268-.27-.268-.707 0-.979.268-.27.701-.27.969 0l7.83 7.908c.268.271.268.709 0 .979l-7.83 7.908c-.268.271-.701.27-.969 0-.268-.269-.268-.707 0-.979L13.25 10z\"\\n                />\\n            </symbol>\\n\\n            <symbol viewBox=\"0 0 20 20\" id=\"large-arrow-down\">\\n                <path d=\"M17.418 6.109c.272-.268.709-.268.979 0s.271.701 0 .969l-7.908 7.83c-.27.268-.707.268-.979 0l-7.908-7.83c-.27-.268-.27-.701 0-.969.271-.268.709-.268.979 0L10 13.25l7.418-7.141z\"\\n                />\\n            </symbol>\\n\\n\\n            <symbol viewBox=\"0 0 24 24\" id=\"jump-to\">\\n                <path d=\"M19 7v4H5.83l3.58-3.59L8 6l-6 6 6 6 1.41-1.41L5.83 13H21V7z\" />\\n            </symbol>\\n\\n            <symbol viewBox=\"0 0 24 24\" id=\"expand\">\\n                <path d=\"M10 18h4v-2h-4v2zM3 6v2h18V6H3zm3 7h12v-2H6v2z\" />\\n            </symbol>\\n\\n        </defs>\\n    </svg>\\n\\n\\n    <div id=\"swagger-ui\">\\n        <div data-reactroot=\"\" class=\"swagger-ui\">\\n            <div>\\n                <div class=\"information-container wrapper\">\\n                    <section class=\"block col-12\">\\n                        <div class=\"info\">\\n                            <hgroup class=\"main\">\\n                                <h2 class=\"title\">httpbin.org\\n                                    <small>\\n                                        <pre class=\"version\">0.9.2</pre>\\n                                    </small>\\n                                </h2>\\n                                <pre class=\"base-url\">[ Base URL: httpbin.org/ ]</pre>\\n                            </hgroup>\\n                            <div class=\"description\">\\n                                <div class=\"markdown\">\\n                                    <p>A simple HTTP Request &amp; Response Service.\\n                                        <br>\\n                                        <br>\\n                                        <b>Run locally: </b>\\n                                        <code>$ docker run -p 80:80 kennethreitz/httpbin</code>\\n                                    </p>\\n                                </div>\\n                            </div>\\n                            <div>\\n                                <div>\\n                                    <a href=\"https://kennethreitz.org\" target=\"_blank\">the developer - Website</a>\\n                                </div>\\n                                <a href=\"mailto:me@kennethreitz.org\">Send email to the developer</a>\\n                            </div>\\n                        </div>\\n                        <!-- ADDS THE LOADER SPINNER -->\\n                        <div class=\"loading-container\">\\n                            <div class=\"loading\"></div>\\n                        </div>\\n\\n                    </section>\\n                </div>\\n            </div>\\n        </div>\\n    </div>\\n\\n\\n    <div class=\\'swagger-ui\\'>\\n        <div class=\"wrapper\">\\n            <section class=\"clear\">\\n                <span style=\"float: right;\">\\n                    [Powered by\\n                    <a target=\"_blank\" href=\"https://github.com/rochacbruno/flasgger\">Flasgger</a>]\\n                    <br>\\n                </span>\\n            </section>\\n        </div>\\n    </div>\\n\\n\\n\\n    <script src=\"/flasgger_static/swagger-ui-bundle.js\"> </script>\\n    <script src=\"/flasgger_static/swagger-ui-standalone-preset.js\"> </script>\\n    <script src=\\'/flasgger_static/lib/jquery.min.js\\' type=\\'text/javascript\\'></script>\\n    <script>\\n\\n        window.onload = function () {\\n            \\n\\n            fetch(\"/spec.json\")\\n                .then(function (response) {\\n                    response.json()\\n                        .then(function (json) {\\n                            var current_protocol = window.location.protocol.slice(0, -1);\\n                            if (json.schemes[0] != current_protocol) {\\n                                // Switches scheme to the current in use\\n                                var other_protocol = json.schemes[0];\\n                                json.schemes[0] = current_protocol;\\n                                json.schemes[1] = other_protocol;\\n\\n                            }\\n                            json.host = window.location.host;  // sets the current host\\n\\n                            const ui = SwaggerUIBundle({\\n                                spec: json,\\n                                validatorUrl: null,\\n                                dom_id: \\'#swagger-ui\\',\\n                                deepLinking: true,\\n                                jsonEditor: true,\\n                                docExpansion: \"none\",\\n                                apisSorter: \"alpha\",\\n                                //operationsSorter: \"alpha\",\\n                                presets: [\\n                                    SwaggerUIBundle.presets.apis,\\n                                    // yay ES6 modules \\xe2\\x86\\x98\\n                                    Array.isArray(SwaggerUIStandalonePreset) ? SwaggerUIStandalonePreset : SwaggerUIStandalonePreset.default\\n                                ],\\n                                plugins: [\\n                                    SwaggerUIBundle.plugins.DownloadUrl\\n                                ],\\n            \\n            // layout: \"StandaloneLayout\"  // uncomment to enable the green top header\\n        })\\n\\n        window.ui = ui\\n\\n        // uncomment to rename the top brand if layout is enabled\\n        // $(\".topbar-wrapper .link span\").replaceWith(\"<span>httpbin</span>\");\\n        })\\n    })\\n}\\n    </script>  <div class=\\'swagger-ui\\'>\\n    <div class=\"wrapper\">\\n        <section class=\"block col-12 block-desktop col-12-desktop\">\\n            <div>\\n\\n                <h2>Other Utilities</h2>\\n\\n                <ul>\\n                    <li>\\n                        <a href=\"/forms/post\">HTML form</a> that posts to /post /forms/post</li>\\n                </ul>\\n\\n                <br />\\n                <br />\\n            </div>\\n        </section>\\n    </div>\\n</div>\\n</body>\\n\\n</html>'\n"
     ]
    }
   ],
   "source": [
    "import pycurl\n",
    "try:\n",
    "    # python 3\n",
    "    from io import BytesIO\n",
    "except ImportError:\n",
    "  \t# python 2\n",
    "    from StringIO import StringIO as BytesIO\n",
    "\n",
    "buffer = BytesIO()\n",
    "c = pycurl.Curl()\n",
    "c.setopt(c.URL, 'https://httpbin.org/')\n",
    "c.setopt(c.WRITEDATA, buffer)\n",
    "c.perform()\n",
    "c.close()\n",
    "\n",
    "body = buffer.getvalue()\n",
    "# Body is a byte string.\n",
    "# We have to know the encoding in order to print it to a text file\n",
    "# such as standard output.\n",
    "print(body)"
   ]
  },
  {
   "cell_type": "code",
   "execution_count": 77,
   "id": "fd8b723d-cb6b-4c15-8927-50589f70b046",
   "metadata": {},
   "outputs": [
    {
     "name": "stdout",
     "output_type": "stream",
     "text": [
      "表单数据需要url序列化：params=this+is+value&params1=hello+world\n",
      "\n",
      "\n",
      "\n",
      "{\n",
      "  \"args\": {}, \n",
      "  \"data\": \"\", \n",
      "  \"files\": {}, \n",
      "  \"form\": {\n",
      "    \"params\": \"this is value\", \n",
      "    \"params1\": \"hello world\"\n",
      "  }, \n",
      "  \"headers\": {\n",
      "    \"Accept\": \"*/*\", \n",
      "    \"Content-Length\": \"40\", \n",
      "    \"Content-Type\": \"application/x-www-form-urlencoded\", \n",
      "    \"Host\": \"httpbin.org\", \n",
      "    \"User-Agent\": \"PycURL/7.43.0.6 libcurl/7.71.1 OpenSSL/1.1.1k zlib/1.2.11 libssh2/1.9.0\", \n",
      "    \"X-Amzn-Trace-Id\": \"Root=1-60e1b494-7d6e13807ca6fe07765724c4\"\n",
      "  }, \n",
      "  \"json\": null, \n",
      "  \"origin\": \"103.142.140.170\", \n",
      "  \"url\": \"https://httpbin.org/post\"\n",
      "}\n",
      "\n"
     ]
    }
   ],
   "source": [
    "import pycurl\n",
    "try:\n",
    "    # python 3\n",
    "    from urllib.parse import urlencode\n",
    "except ImportError:\n",
    "    # python 2\n",
    "    from urllib import urlencode\n",
    "    \n",
    "try:\n",
    "    # python 3\n",
    "    from io import BytesIO\n",
    "except ImportError:\n",
    "  \t# python 2\n",
    "    from StringIO import StringIO as BytesIO\n",
    "    \n",
    "buffer = BytesIO()\n",
    "\n",
    "\n",
    "c = pycurl.Curl()\n",
    "c.setopt(c.URL, 'https://httpbin.org/post')\n",
    "\n",
    "\n",
    "post_data = {'params': 'this is value','params1':'hello world'}\n",
    "# Form data must be provided already urlencoded.\n",
    "postfields = urlencode(post_data)\n",
    "# Sets request method to POST,\n",
    "# Content-Type header to application/x-www-form-urlencoded\n",
    "# and data to send in request body.\n",
    "c.setopt(c.POSTFIELDS, postfields)\n",
    "c.setopt(c.WRITEDATA, buffer)\n",
    "\n",
    "c.perform()\n",
    "c.close()\n",
    "\n",
    "body = buffer.getvalue()\n",
    "# Body is a byte string.\n",
    "# We have to know the encoding in order to print it to a text file\n",
    "# such as standard output.\n",
    "print('表单数据需要url序列化：'+ postfields)\n",
    "print('\\n\\n')\n",
    "print(body.decode('utf-8'))"
   ]
  },
  {
   "cell_type": "code",
   "execution_count": null,
   "id": "afde0ab9-ebb9-428b-9d7b-37e4ab0548e7",
   "metadata": {},
   "outputs": [],
   "source": []
  }
 ],
 "metadata": {
  "kernelspec": {
   "display_name": "Python 3",
   "language": "python",
   "name": "python3"
  },
  "language_info": {
   "codemirror_mode": {
    "name": "ipython",
    "version": 3
   },
   "file_extension": ".py",
   "mimetype": "text/x-python",
   "name": "python",
   "nbconvert_exporter": "python",
   "pygments_lexer": "ipython3",
   "version": "3.7.10"
  }
 },
 "nbformat": 4,
 "nbformat_minor": 5
}
