{
 "cells": [
  {
   "cell_type": "code",
   "execution_count": 1,
   "id": "1e279249-09e8-4286-aae7-8862b60d0931",
   "metadata": {},
   "outputs": [],
   "source": [
    "import numpy as np"
   ]
  },
  {
   "cell_type": "code",
   "execution_count": 5,
   "id": "47329c42-5a45-44a8-8904-72cb557af47e",
   "metadata": {},
   "outputs": [],
   "source": [
    "A = np.array([[2.0, 0 , 0],\n",
    "              [0, 2.0 , 0],\n",
    "              [0, 0, 2.0]\n",
    "             ])\n",
    "\n",
    "x = np.array([[0, 2.0,],\n",
    "              [1, 4.0,],\n",
    "              [1, 4.0,]\n",
    "             ])"
   ]
  },
  {
   "cell_type": "code",
   "execution_count": 11,
   "id": "aa563f52-a5d6-438e-9ef7-b723f1054d7b",
   "metadata": {},
   "outputs": [
    {
     "data": {
      "text/plain": [
       "array([[0., 4.],\n",
       "       [2., 8.],\n",
       "       [2., 8.]])"
      ]
     },
     "execution_count": 11,
     "metadata": {},
     "output_type": "execute_result"
    }
   ],
   "source": [
    "A @ x"
   ]
  },
  {
   "cell_type": "code",
   "execution_count": 13,
   "id": "8123b97d-e28d-4edc-be89-61a213d6da53",
   "metadata": {},
   "outputs": [],
   "source": [
    "x = np.array([\n",
    "    [0,2],\n",
    "    [1,4]\n",
    "])\n",
    "A = np.array([\n",
    "    [3,0],\n",
    "    [0,3]\n",
    "])"
   ]
  },
  {
   "cell_type": "code",
   "execution_count": 14,
   "id": "000a9eb5-22cf-41d3-8cef-05000189919e",
   "metadata": {},
   "outputs": [
    {
     "data": {
      "text/plain": [
       "array([[ 0,  6],\n",
       "       [ 3, 12]])"
      ]
     },
     "execution_count": 14,
     "metadata": {},
     "output_type": "execute_result"
    }
   ],
   "source": [
    "A @ x"
   ]
  },
  {
   "cell_type": "code",
   "execution_count": 15,
   "id": "52762ede-f0fe-4716-ae2a-a0099dfe0888",
   "metadata": {},
   "outputs": [
    {
     "data": {
      "text/plain": [
       "array([[ 0,  6],\n",
       "       [ 3, 12]])"
      ]
     },
     "execution_count": 15,
     "metadata": {},
     "output_type": "execute_result"
    }
   ],
   "source": [
    "np.dot(A,x)"
   ]
  },
  {
   "cell_type": "code",
   "execution_count": 35,
   "id": "9e82f419-1db9-49e3-b471-2bba734135c0",
   "metadata": {},
   "outputs": [],
   "source": [
    "# rotation along the horiontal axis\n",
    "A1 = np.array([[1.0, 0],\n",
    "               [0, -1.0]])\n",
    "\n",
    "# rotation along the vertical axis\n",
    "A2 = np.array([[-1.0, 0],\n",
    "               [0, 1.0]])\n",
    "\n",
    "# rotation along the line at 45 degrees from the origin\n",
    "A3 = np.array([[0, 1.0],\n",
    "               [1.0, 0]])\n",
    "\n",
    "# rotation along the line at -45 degrees from the origin\n",
    "A4 = np.array([[0, -1.0],\n",
    "               [-1.0, 0]])\n",
    "\n",
    "x = np.array([\n",
    "    [0,0],\n",
    "    [0,2]\n",
    "])"
   ]
  },
  {
   "cell_type": "code",
   "execution_count": 36,
   "id": "675331cb-06a7-47ce-b951-d47f702822fd",
   "metadata": {},
   "outputs": [
    {
     "data": {
      "text/plain": [
       "array([[ 0.,  0.],\n",
       "       [ 0., -2.]])"
      ]
     },
     "execution_count": 36,
     "metadata": {},
     "output_type": "execute_result"
    }
   ],
   "source": [
    "A1 @ x"
   ]
  },
  {
   "cell_type": "code",
   "execution_count": 26,
   "id": "f2500e25-4942-4eae-8f8a-276567f4fe41",
   "metadata": {},
   "outputs": [
    {
     "data": {
      "text/plain": [
       "array([[0.],\n",
       "       [2.]])"
      ]
     },
     "execution_count": 26,
     "metadata": {},
     "output_type": "execute_result"
    }
   ],
   "source": [
    "A2 @ x"
   ]
  },
  {
   "cell_type": "code",
   "execution_count": 30,
   "id": "e92d3855-cb12-496c-82c7-97e84a91a016",
   "metadata": {},
   "outputs": [
    {
     "data": {
      "text/plain": [
       "array([[2.],\n",
       "       [0.]])"
      ]
     },
     "execution_count": 30,
     "metadata": {},
     "output_type": "execute_result"
    }
   ],
   "source": [
    "A3 @ x"
   ]
  },
  {
   "cell_type": "code",
   "execution_count": 28,
   "id": "13cfdf80-9708-4c49-9dc4-15ed6c13c933",
   "metadata": {},
   "outputs": [
    {
     "data": {
      "text/plain": [
       "array([[-2.],\n",
       "       [ 0.]])"
      ]
     },
     "execution_count": 28,
     "metadata": {},
     "output_type": "execute_result"
    }
   ],
   "source": [
    "A4 @ x"
   ]
  },
  {
   "cell_type": "code",
   "execution_count": 22,
   "id": "37827d4e-9084-41c4-b3ad-cc0667140e03",
   "metadata": {},
   "outputs": [
    {
     "data": {
      "image/png": "[encoded data removed]",
      "text/plain": [
       "<Figure size 432x288 with 1 Axes>"
      ]
     },
     "metadata": {
      "needs_background": "light"
     },
     "output_type": "display_data"
    }
   ],
   "source": [
    "import numpy as np\n",
    "import matplotlib.pyplot as plt\n",
    "\n",
    "V = np.array([[1,1], [-2,2], [4,-7]])\n",
    "origin = np.array([[0, 0, 0],[0, 0, 0]]) # origin point\n",
    "\n",
    "plt.quiver(*origin, V[:,0], V[:,1], color=['r','b','g'], scale=21)\n",
    "plt.show()"
   ]
  },
  {
   "cell_type": "code",
   "execution_count": 31,
   "id": "8d5da9b3-83f3-441c-aa17-918cdabf48da",
   "metadata": {},
   "outputs": [],
   "source": [
    "# shear along the horiontal axis\n",
    "A1 = np.array([[1.0, 1.5],\n",
    "               [0, 1.0]])\n",
    "\n",
    "x = np.array([[0, 2.0,],\n",
    "              [0, 4.0,]])\n",
    "\n",
    "u = np.array([[2, 4.0,],\n",
    "              [0, 4.0,]])"
   ]
  },
  {
   "cell_type": "code",
   "execution_count": 32,
   "id": "f953ecf8-c164-40ca-8e92-d362cc597b7a",
   "metadata": {},
   "outputs": [],
   "source": [
    "y1 = A1 @ x\n",
    "v1 = A1 @ u"
   ]
  },
  {
   "cell_type": "code",
   "execution_count": 33,
   "id": "f86c1134-950e-495a-a1dc-7f9037274f54",
   "metadata": {},
   "outputs": [
    {
     "data": {
      "text/plain": [
       "array([[0., 8.],\n",
       "       [0., 4.]])"
      ]
     },
     "execution_count": 33,
     "metadata": {},
     "output_type": "execute_result"
    }
   ],
   "source": [
    "y1"
   ]
  },
  {
   "cell_type": "code",
   "execution_count": 34,
   "id": "aff08348-456e-411e-b5ca-283af0b41d4d",
   "metadata": {},
   "outputs": [
    {
     "data": {
      "text/plain": [
       "array([[ 2., 10.],\n",
       "       [ 0.,  4.]])"
      ]
     },
     "execution_count": 34,
     "metadata": {},
     "output_type": "execute_result"
    }
   ],
   "source": [
    "v1"
   ]
  },
  {
   "cell_type": "code",
   "execution_count": null,
   "id": "e418702f-2d59-44e1-b21e-16a372d8cf39",
   "metadata": {},
   "outputs": [],
   "source": []
  }
 ],
 "metadata": {
  "kernelspec": {
   "display_name": "Python 3",
   "language": "python",
   "name": "python3"
  },
  "language_info": {
   "codemirror_mode": {
    "name": "ipython",
    "version": 3
   },
   "file_extension": ".py",
   "mimetype": "text/x-python",
   "name": "python",
   "nbconvert_exporter": "python",
   "pygments_lexer": "ipython3",
   "version": "3.7.10"
  }
 },
 "nbformat": 4,
 "nbformat_minor": 5
}
