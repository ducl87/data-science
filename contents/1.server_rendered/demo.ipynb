{
 "cells": [
  {
   "cell_type": "code",
   "execution_count": 1,
   "id": "81ef6213-c043-49dc-879f-667c26322288",
   "metadata": {},
   "outputs": [],
   "source": [
    "html_doc = \"\"\"<html><head><title>The Dormouse's story</title></head>\n",
    "<body>\n",
    "<p class=\"title\"><b>The Dormouse's story</b></p>\n",
    "\n",
    "<p class=\"story\">Once upon a time there were three little sisters; and their names were </p>\n",
    "<a href=\"http://example.com/elsie\" class=\"sister\" id=\"link1\">Elsie</a>,\n",
    "<a href=\"http://example.com/lacie\" class=\"sister\" id=\"link2\">Lacie</a> and\n",
    "<a href=\"http://example.com/tillie\" class=\"sister\" id=\"link3\">Tillie</a>;\n",
    "<p>and they lived at the bottom of a well.</p>\n",
    "\n",
    "<p class=\"story\">...</p>\n",
    "\"\"\""
   ]
  },
  {
   "cell_type": "code",
   "execution_count": 2,
   "id": "ffd6b0bb-c004-4a16-b611-e6aa1b6ad78a",
   "metadata": {},
   "outputs": [],
   "source": [
    "# 导入库\n",
    "from bs4 import BeautifulSoup\n",
    "# 实例化\n",
    "soup = BeautifulSoup(html_doc, 'html.parser')\n"
   ]
  },
  {
   "cell_type": "code",
   "execution_count": 11,
   "id": "a668e1f8-4cb7-451c-ae7d-03014d780af0",
   "metadata": {},
   "outputs": [
    {
     "data": {
      "text/plain": [
       "['Elsie']"
      ]
     },
     "execution_count": 11,
     "metadata": {},
     "output_type": "execute_result"
    }
   ],
   "source": [
    "soup.find_all(string=\"Elsie\")"
   ]
  },
  {
   "cell_type": "code",
   "execution_count": 13,
   "id": "4e28af29-c05f-451c-a74a-f68f5da2bfc0",
   "metadata": {},
   "outputs": [],
   "source": [
    "import re"
   ]
  },
  {
   "cell_type": "code",
   "execution_count": 15,
   "id": "c27aef87-09d7-4823-a383-d16e407fb419",
   "metadata": {},
   "outputs": [
    {
     "data": {
      "text/plain": [
       "[\"The Dormouse's story\", \"The Dormouse's story\"]"
      ]
     },
     "execution_count": 15,
     "metadata": {},
     "output_type": "execute_result"
    }
   ],
   "source": [
    "\n",
    "soup.find_all(string=\"Elsie\")\n",
    "# [u'Elsie']\n",
    "\n",
    "soup.find_all(string=[\"Tillie\", \"Elsie\", \"Lacie\"])\n",
    "# [u'Elsie', u'Lacie', u'Tillie']\n",
    "\n",
    "soup.find_all(string=re.compile(\"Dormouse\"))\n",
    "[u\"The Dormouse's story\", u\"The Dormouse's story\"]\n",
    "\n",
    "def is_the_only_string_within_a_tag(s):\n",
    "    \"\"\"Return True if this string is the only child of its parent tag.\"\"\"\n",
    "    return (s == s.parent.string)\n",
    "\n",
    "soup.find_all(string=is_the_only_string_within_a_tag)\n",
    "# [u\"The Dormouse's story\", u\"The Dormouse's story\", u'Elsie', u'Lacie', u'Tillie', u'...']"
   ]
  },
  {
   "cell_type": "code",
   "execution_count": 26,
   "id": "6370f3d1-5e6e-425f-8c3b-80a46395cd4f",
   "metadata": {},
   "outputs": [
    {
     "data": {
      "text/plain": [
       "['Once upon a time there were three little sisters; and their names were ']"
      ]
     },
     "execution_count": 26,
     "metadata": {},
     "output_type": "execute_result"
    }
   ],
   "source": [
    "soup.find_all(string=re.compile('three'))"
   ]
  },
  {
   "cell_type": "code",
   "execution_count": 28,
   "id": "55b28ff1-d2c7-492f-bdbb-f6284fa780f0",
   "metadata": {},
   "outputs": [
    {
     "data": {
      "text/plain": [
       "[<a class=\"sister\" href=\"http://example.com/lacie\" id=\"link2\">Lacie</a>]"
      ]
     },
     "execution_count": 28,
     "metadata": {},
     "output_type": "execute_result"
    }
   ],
   "source": [
    "soup.find_all('a',string=re.compile('Lacie'))"
   ]
  },
  {
   "cell_type": "code",
   "execution_count": 38,
   "id": "80638316-00dc-4c75-b0dc-f9a967d91077",
   "metadata": {},
   "outputs": [
    {
     "data": {
      "text/plain": [
       "[<a class=\"sister\" href=\"http://example.com/elsie\" id=\"link1\">Elsie</a>,\n",
       " <a class=\"sister\" href=\"http://example.com/lacie\" id=\"link2\">Lacie</a>]"
      ]
     },
     "execution_count": 38,
     "metadata": {},
     "output_type": "execute_result"
    }
   ],
   "source": [
    "soup.find_all(\"a\", limit=2)\n"
   ]
  },
  {
   "cell_type": "code",
   "execution_count": 116,
   "id": "9f5ec515-9732-4b34-82f2-940245f54006",
   "metadata": {},
   "outputs": [],
   "source": [
    "html_doc = '''\n",
    "<div id='aa'>\n",
    "    <span id='bb'></span>\n",
    "    <div id='cc'>\n",
    "        <span id='dd'></span>\n",
    "    </div>\n",
    "</div>\n",
    "'''"
   ]
  },
  {
   "cell_type": "code",
   "execution_count": 117,
   "id": "fc4c7d91-1b0c-4d41-ae0b-93eb51b63e40",
   "metadata": {},
   "outputs": [],
   "source": [
    "soup = BeautifulSoup(html_doc, 'html.parser')"
   ]
  },
  {
   "cell_type": "code",
   "execution_count": 118,
   "id": "62b11650-cb1a-4be7-8fec-3087d3739b17",
   "metadata": {},
   "outputs": [
    {
     "data": {
      "text/plain": [
       "[<span id=\"bb\"></span>, <span id=\"dd\"></span>]"
      ]
     },
     "execution_count": 118,
     "metadata": {},
     "output_type": "execute_result"
    }
   ],
   "source": [
    "soup.div.find_all('span')"
   ]
  },
  {
   "cell_type": "code",
   "execution_count": 120,
   "id": "5dbf9613-e9dd-4569-b2cf-43320a6d026b",
   "metadata": {},
   "outputs": [
    {
     "data": {
      "text/plain": [
       "[<span id=\"bb\"></span>]"
      ]
     },
     "execution_count": 120,
     "metadata": {},
     "output_type": "execute_result"
    }
   ],
   "source": [
    "soup.div.find_all('span',recursive=False)"
   ]
  },
  {
   "cell_type": "code",
   "execution_count": null,
   "id": "b554e2cb-6cea-4552-abd9-f3a0a2aac1d4",
   "metadata": {},
   "outputs": [],
   "source": []
  },
  {
   "cell_type": "code",
   "execution_count": 58,
   "id": "f71ab7f3-db7e-403b-b207-5f9edf76b963",
   "metadata": {},
   "outputs": [
    {
     "name": "stdout",
     "output_type": "stream",
     "text": [
      "<html>\n",
      " <body>\n",
      "  <div id=\"aa\">\n",
      "   <div id=\"bb\">\n",
      "    <div id=\"cc\">\n",
      "    </div>\n",
      "   </div>\n",
      "  </div>\n",
      " </body>\n",
      "</html>\n"
     ]
    }
   ],
   "source": [
    "print(soup.prettify())"
   ]
  },
  {
   "cell_type": "code",
   "execution_count": 73,
   "id": "b3d8e214-0fd7-4a70-b7ba-c72e2031b160",
   "metadata": {},
   "outputs": [
    {
     "data": {
      "text/plain": [
       "[<div id=\"aa\">\n",
       " <div id=\"bb\">\n",
       " <div id=\"cc\">\n",
       " </div>\n",
       " </div>\n",
       " </div>,\n",
       " <div id=\"bb\">\n",
       " <div id=\"cc\">\n",
       " </div>\n",
       " </div>,\n",
       " <div id=\"cc\">\n",
       " </div>]"
      ]
     },
     "execution_count": 73,
     "metadata": {},
     "output_type": "execute_result"
    }
   ],
   "source": [
    "soup.html.find_all('div')"
   ]
  },
  {
   "cell_type": "code",
   "execution_count": 122,
   "id": "3424fa70-7e65-4e90-8d81-614071918f70",
   "metadata": {},
   "outputs": [
    {
     "data": {
      "text/plain": [
       "[<span id=\"bb\"></span>, <span id=\"dd\"></span>]"
      ]
     },
     "execution_count": 122,
     "metadata": {},
     "output_type": "execute_result"
    }
   ],
   "source": [
    "soup.select('div>span')"
   ]
  },
  {
   "cell_type": "code",
   "execution_count": 1,
   "id": "c32079e7-62e4-4b80-9c0e-8e1cff048272",
   "metadata": {},
   "outputs": [],
   "source": [
    "import numpy as np"
   ]
  },
  {
   "cell_type": "code",
   "execution_count": 13,
   "id": "f895c158-104d-4e24-bff7-655d08faba7c",
   "metadata": {},
   "outputs": [],
   "source": [
    "x = np.array([\n",
    "    [1],\n",
    "    [3]\n",
    "])\n",
    "y = np.array([\n",
    "    [-2],\n",
    "    [4]\n",
    "])"
   ]
  },
  {
   "cell_type": "code",
   "execution_count": 17,
   "id": "10ff6fcc-9ce2-4b94-9e6e-1a85db0c3597",
   "metadata": {},
   "outputs": [
    {
     "data": {
      "text/plain": [
       "array([[3.16227766]])"
      ]
     },
     "execution_count": 17,
     "metadata": {},
     "output_type": "execute_result"
    }
   ],
   "source": [
    "np.sqrt((x-y).T @  (x-y))"
   ]
  },
  {
   "cell_type": "code",
   "execution_count": 4,
   "id": "c9cb79ac-ba34-4d5a-b4ab-a753dec77c24",
   "metadata": {},
   "outputs": [
    {
     "data": {
      "text/plain": [
       "array([[ 4],\n",
       "       [-3]])"
      ]
     },
     "execution_count": 4,
     "metadata": {},
     "output_type": "execute_result"
    }
   ],
   "source": [
    "y"
   ]
  },
  {
   "cell_type": "code",
   "execution_count": 5,
   "id": "600f04ad-e7e8-4fdf-baee-3ee222b7f17f",
   "metadata": {},
   "outputs": [
    {
     "data": {
      "text/plain": [
       "array([[-2,  2]])"
      ]
     },
     "execution_count": 5,
     "metadata": {},
     "output_type": "execute_result"
    }
   ],
   "source": [
    "x.T"
   ]
  },
  {
   "cell_type": "code",
   "execution_count": 6,
   "id": "fa6627dd-9f4b-4d5a-a0cf-334c4ff47953",
   "metadata": {},
   "outputs": [
    {
     "data": {
      "text/plain": [
       "array([[-14]])"
      ]
     },
     "execution_count": 6,
     "metadata": {},
     "output_type": "execute_result"
    }
   ],
   "source": [
    "x.T @ y"
   ]
  },
  {
   "cell_type": "code",
   "execution_count": 7,
   "id": "caf3de6c-f9b8-48ac-a5cd-2d03cc254f4a",
   "metadata": {},
   "outputs": [
    {
     "data": {
      "text/plain": [
       "array([[-14]])"
      ]
     },
     "execution_count": 7,
     "metadata": {},
     "output_type": "execute_result"
    }
   ],
   "source": [
    "np.dot(x.T,y)"
   ]
  },
  {
   "cell_type": "code",
   "execution_count": 8,
   "id": "4d3a9043-8635-4f7c-9f50-b5d910b73864",
   "metadata": {},
   "outputs": [],
   "source": [
    "x = np.array([\n",
    "    [3],\n",
    "    [4]\n",
    "])"
   ]
  },
  {
   "cell_type": "code",
   "execution_count": 10,
   "id": "313d6df0-ed70-43bf-b4e7-cd23d8925152",
   "metadata": {},
   "outputs": [
    {
     "data": {
      "text/plain": [
       "array([[5.]])"
      ]
     },
     "execution_count": 10,
     "metadata": {},
     "output_type": "execute_result"
    }
   ],
   "source": [
    "np.sqrt(x.T @ x )"
   ]
  },
  {
   "cell_type": "code",
   "execution_count": 11,
   "id": "17e1e0a1-5ee8-473c-bb8e-324bb30dfc3a",
   "metadata": {},
   "outputs": [
    {
     "data": {
      "text/plain": [
       "array([[5.]])"
      ]
     },
     "execution_count": 11,
     "metadata": {},
     "output_type": "execute_result"
    }
   ],
   "source": [
    "np.sqrt(np.dot(x.T,x))"
   ]
  },
  {
   "cell_type": "code",
   "execution_count": 18,
   "id": "65c8f05b-332a-43f9-a77a-294cc71c4000",
   "metadata": {},
   "outputs": [
    {
     "data": {
      "text/plain": [
       "3.1622776601683795"
      ]
     },
     "execution_count": 18,
     "metadata": {},
     "output_type": "execute_result"
    }
   ],
   "source": [
    "np.linalg.norm(x-y,2)"
   ]
  },
  {
   "cell_type": "code",
   "execution_count": 19,
   "id": "bca0387e-b4ea-45e6-a472-8bfe62e3d12e",
   "metadata": {},
   "outputs": [],
   "source": [
    "x = np.array([[2], [0]])\n",
    "y = np.array([[0], [2]])\n"
   ]
  },
  {
   "cell_type": "code",
   "execution_count": 20,
   "id": "b296e7cc-2c60-43a2-9a66-8906c8f59fc6",
   "metadata": {},
   "outputs": [],
   "source": [
    "cos_theta =( x.T @ y) / (np.linalg.norm(x,2) * np.linalg.norm(y,2) )"
   ]
  },
  {
   "cell_type": "code",
   "execution_count": 21,
   "id": "8250663d-394a-47af-af0c-1341baa8c436",
   "metadata": {},
   "outputs": [
    {
     "data": {
      "text/plain": [
       "array([[0.]])"
      ]
     },
     "execution_count": 21,
     "metadata": {},
     "output_type": "execute_result"
    }
   ],
   "source": [
    "cos_theta"
   ]
  },
  {
   "cell_type": "code",
   "execution_count": 2,
   "id": "fe7f6e8e-120c-484a-be17-72f8bfed28b3",
   "metadata": {},
   "outputs": [
    {
     "name": "stdout",
     "output_type": "stream",
     "text": [
      "41.0\n"
     ]
    }
   ],
   "source": [
    "import numpy\n",
    "\n",
    "values = [13,21,21,40,42,48,55,72]\n",
    "\n",
    "x = numpy.percentile(values, 65)\n",
    "\n",
    "print(x)"
   ]
  },
  {
   "cell_type": "code",
   "execution_count": 3,
   "id": "2e54277a-dcb2-4e7b-a4a3-1b4f53b0bc70",
   "metadata": {},
   "outputs": [],
   "source": [
    "import numpy as np\n",
    "\n",
    "values = [13,21,21,40,42,48,55,72]\n",
    "\n",
    "q_1,q_3 = np.quantile(values, [0.25,0.75])"
   ]
  },
  {
   "cell_type": "code",
   "execution_count": 5,
   "id": "5113d2f4-5306-4e65-a3fa-c909206194cc",
   "metadata": {},
   "outputs": [
    {
     "data": {
      "text/plain": [
       "28.75"
      ]
     },
     "execution_count": 5,
     "metadata": {},
     "output_type": "execute_result"
    }
   ],
   "source": [
    "q_3 - q_1"
   ]
  },
  {
   "cell_type": "code",
   "execution_count": 6,
   "id": "205f8045-a366-48a4-b71d-2303376badaf",
   "metadata": {},
   "outputs": [
    {
     "name": "stdout",
     "output_type": "stream",
     "text": [
      "28.75\n"
     ]
    }
   ],
   "source": [
    "from scipy import stats\n",
    "\n",
    "values = [13,21,21,40,42,48,55,72]\n",
    "\n",
    "x = stats.iqr(values)\n",
    "\n",
    "print(x)"
   ]
  },
  {
   "cell_type": "code",
   "execution_count": 7,
   "id": "58ea7b6f-efb4-4da2-a613-90e7b399293b",
   "metadata": {},
   "outputs": [
    {
     "name": "stdout",
     "output_type": "stream",
     "text": [
      "3.8078865529319543\n"
     ]
    }
   ],
   "source": [
    "import numpy\n",
    "\n",
    "values = [4,11,7,14]\n",
    "\n",
    "x = numpy.std(values)\n",
    "\n",
    "print(x)"
   ]
  },
  {
   "cell_type": "code",
   "execution_count": 12,
   "id": "7307f9b5-ba32-44d5-bf31-5515164b5a12",
   "metadata": {},
   "outputs": [
    {
     "name": "stdout",
     "output_type": "stream",
     "text": [
      "4.396968652757639\n"
     ]
    }
   ],
   "source": [
    "import numpy\n",
    "\n",
    "values = [4,11,7,14]\n",
    "\n",
    "x = numpy.std(values, ddof=1)\n",
    "\n",
    "print(x)"
   ]
  },
  {
   "cell_type": "code",
   "execution_count": 23,
   "id": "e8977423-539f-495e-9999-a65c175cf47e",
   "metadata": {},
   "outputs": [],
   "source": [
    "# base vector\n",
    "y = np.array([[3],\n",
    "              [2]])\n",
    "\n",
    "x = np.array([[1],\n",
    "              [3]])\n",
    "\n",
    "P = (y @ y.T)/(y.T @ y)"
   ]
  },
  {
   "cell_type": "code",
   "execution_count": 14,
   "id": "73033c0e-cea8-4f98-8b17-0aef3ead5bf5",
   "metadata": {},
   "outputs": [],
   "source": [
    "x_x = P @ x"
   ]
  },
  {
   "cell_type": "code",
   "execution_count": 22,
   "id": "dfa0e6f8-bc5c-4663-ad39-491e886d652d",
   "metadata": {},
   "outputs": [
    {
     "data": {
      "text/plain": [
       "array([[2.07692308],\n",
       "       [1.38461538]])"
      ]
     },
     "execution_count": 22,
     "metadata": {},
     "output_type": "execute_result"
    }
   ],
   "source": [
    "x_x"
   ]
  },
  {
   "cell_type": "code",
   "execution_count": 20,
   "id": "2384300a-08fb-4e9c-acf8-66db58a4523f",
   "metadata": {},
   "outputs": [
    {
     "data": {
      "text/plain": [
       "array([[9.]])"
      ]
     },
     "execution_count": 20,
     "metadata": {},
     "output_type": "execute_result"
    }
   ],
   "source": []
  },
  {
   "cell_type": "code",
   "execution_count": 27,
   "id": "8040f513-3b2d-4e5d-92c7-47d06b473f1c",
   "metadata": {},
   "outputs": [
    {
     "data": {
      "text/plain": [
       "array([[8.8817842e-16]])"
      ]
     },
     "execution_count": 27,
     "metadata": {},
     "output_type": "execute_result"
    }
   ],
   "source": [
    "y.T @ (x - x_x)"
   ]
  },
  {
   "cell_type": "code",
   "execution_count": 30,
   "id": "ed757b6d-5b0b-4bd9-84da-98b13a322b27",
   "metadata": {},
   "outputs": [
    {
     "data": {
      "text/plain": [
       "array([[8.8817842e-16]])"
      ]
     },
     "execution_count": 30,
     "metadata": {},
     "output_type": "execute_result"
    }
   ],
   "source": [
    "np.dot(y.T,(x - x_x))"
   ]
  },
  {
   "cell_type": "code",
   "execution_count": null,
   "id": "74d72ad7-57bb-4c74-8a5e-36db23af3ca6",
   "metadata": {},
   "outputs": [],
   "source": []
  }
 ],
 "metadata": {
  "kernelspec": {
   "display_name": "Python 3",
   "language": "python",
   "name": "python3"
  },
  "language_info": {
   "codemirror_mode": {
    "name": "ipython",
    "version": 3
   },
   "file_extension": ".py",
   "mimetype": "text/x-python",
   "name": "python",
   "nbconvert_exporter": "python",
   "pygments_lexer": "ipython3",
   "version": "3.7.10"
  }
 },
 "nbformat": 4,
 "nbformat_minor": 5
}
