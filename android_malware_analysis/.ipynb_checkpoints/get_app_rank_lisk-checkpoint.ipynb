{
 "cells": [
  {
   "cell_type": "code",
   "execution_count": 1,
   "id": "a0d33491-6020-46c6-84c7-9a2b2fccc8f8",
   "metadata": {},
   "outputs": [],
   "source": [
    "import requests\n",
    "import json\n",
    "from bs4 import BeautifulSoup\n",
    "import csv"
   ]
  },
  {
   "cell_type": "code",
   "execution_count": null,
   "id": "4ed217d7-33f0-4018-b577-c64e47f395f8",
   "metadata": {},
   "outputs": [],
   "source": []
  },
  {
   "cell_type": "code",
   "execution_count": 2,
   "id": "10ef454a-2176-428e-924c-fc03cf1532b6",
   "metadata": {},
   "outputs": [
    {
     "name": "stdout",
     "output_type": "stream",
     "text": [
      "处理第0页\n",
      "处理第1页\n",
      "处理第2页\n",
      "处理第3页\n",
      "处理第4页\n",
      "处理第5页\n",
      "处理第6页\n",
      "处理第7页\n",
      "处理第8页\n",
      "处理第9页\n",
      "处理第10页\n",
      "处理第11页\n",
      "处理第12页\n",
      "处理第13页\n",
      "处理第14页\n",
      "处理第15页\n",
      "处理第16页\n",
      "处理第17页\n",
      "处理第18页\n",
      "处理第19页\n",
      "处理第20页\n",
      "处理第21页\n",
      "处理第22页\n",
      "处理第23页\n",
      "处理第24页\n",
      "处理第25页\n",
      "处理第26页\n",
      "处理第27页\n",
      "处理第28页\n",
      "处理第29页\n",
      "处理第30页\n",
      "处理第31页\n",
      "处理第32页\n",
      "处理第33页\n",
      "处理第34页\n",
      "处理第35页\n",
      "处理第36页\n",
      "处理第37页\n",
      "处理第38页\n",
      "处理第39页\n",
      "处理第40页\n",
      "处理第41页\n",
      "处理第42页\n"
     ]
    }
   ],
   "source": [
    "with open('app_rank_list.csv','w') as csvFile:\n",
    "    writer = csv.writer(csvFile)\n",
    "    writer.writerow(['app_name','app_url','size']) \n",
    "\n",
    "    for page in range(43):\n",
    "        print('处理第{num}页'.format(num = page))\n",
    "        api_url = \"https://m.wandoujia.com/wdjweb/api/top/more?resourceType=0&page={page}&ctoken=s3wPIQ1tacIcLcOISv44_Tm-\".format(page = page)\n",
    "        headers = {\n",
    "            'User-Agent': 'Mozilla/4.0 (compatible; MSIE 9.0; Windows NT 6.1)'\n",
    "        }\n",
    "\n",
    "        data = requests.get(api_url,headers=headers)\n",
    "\n",
    "        json_data = json.loads(data.text)\n",
    "        html_data = json_data['data']['content']\n",
    "        soup = BeautifulSoup(html_data)\n",
    "\n",
    "\n",
    "        for li_item in soup.find_all('li'):\n",
    "#             print(li_item)\n",
    "            app_name = li_item.find('h2').find('a').get_text()\n",
    "            app_url = li_item.find('h2').find('a').get('href') \n",
    "            size = li_item.find_all('span')[2].get_text().split('MB')[0]\n",
    "            \n",
    "            writer.writerow([app_name,app_url,size]) \n",
    "#             break\n",
    "\n"
   ]
  },
  {
   "cell_type": "code",
   "execution_count": null,
   "id": "71548ad7-e335-4391-bd56-8fed8fea0fbf",
   "metadata": {},
   "outputs": [],
   "source": []
  },
  {
   "cell_type": "code",
   "execution_count": null,
   "id": "ea5d57d7-2706-435c-8404-96d8b97b06a9",
   "metadata": {},
   "outputs": [],
   "source": []
  },
  {
   "cell_type": "code",
   "execution_count": null,
   "id": "e6b9482a-f62c-4ed3-8186-d0ec39064b9b",
   "metadata": {},
   "outputs": [],
   "source": []
  },
  {
   "cell_type": "code",
   "execution_count": null,
   "id": "e5705b88-6507-4b3f-9200-66f631a2b653",
   "metadata": {},
   "outputs": [],
   "source": []
  },
  {
   "cell_type": "code",
   "execution_count": null,
   "id": "f059ffee-a1fe-426e-bb71-7557b8ee808d",
   "metadata": {},
   "outputs": [],
   "source": []
  },
  {
   "cell_type": "code",
   "execution_count": null,
   "id": "7c85b946-e691-494c-b964-4df44dadda92",
   "metadata": {},
   "outputs": [],
   "source": []
  }
 ],
 "metadata": {
  "kernelspec": {
   "display_name": "Python 3",
   "language": "python",
   "name": "python3"
  },
  "language_info": {
   "codemirror_mode": {
    "name": "ipython",
    "version": 3
   },
   "file_extension": ".py",
   "mimetype": "text/x-python",
   "name": "python",
   "nbconvert_exporter": "python",
   "pygments_lexer": "ipython3",
   "version": "3.7.10"
  }
 },
 "nbformat": 4,
 "nbformat_minor": 5
}
