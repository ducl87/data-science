{
 "cells": [
  {
   "cell_type": "code",
   "execution_count": null,
   "id": "8f7c801c-2d21-4d23-ac9b-5848b3ca65ae",
   "metadata": {},
   "outputs": [],
   "source": [
    "print('😀😀😀 导入依赖库')\n",
    "# 导入库\n",
    "import pandas as pd\n",
    "from IPython.display import display\n",
    "import matplotlib.pyplot as plt\n",
    "import seaborn as sns\n",
    "import numpy as np\n",
    "\n",
    "# retina screen\n",
    "%config InlineBackend.figure_format = 'retina' #set 'png' here when working on notebook\n",
    "%matplotlib inline"
   ]
  },
  {
   "cell_type": "code",
   "execution_count": null,
   "id": "3d0453f1-695d-48c9-bbbc-93e14bb96064",
   "metadata": {},
   "outputs": [],
   "source": [
    "# 加载训练数据（通报的软件）详情\n",
    "training_app_data = pd.read_csv(\"./traning_app_list.csv\")\n",
    "print('😀😀😀 加载训练数据')"
   ]
  },
  {
   "cell_type": "code",
   "execution_count": 1,
   "id": "c6f06caf-d6f5-46f1-aa84-97a0cb76d489",
   "metadata": {},
   "outputs": [
    {
     "name": "stdout",
     "output_type": "stream",
     "text": [
      "😀😀😀 加载测试数据\n"
     ]
    },
    {
     "ename": "NameError",
     "evalue": "name 'pd' is not defined",
     "output_type": "error",
     "traceback": [
      "\u001b[0;31m---------------------------------------------------------------------------\u001b[0m",
      "\u001b[0;31mNameError\u001b[0m                                 Traceback (most recent call last)",
      "\u001b[0;32m<ipython-input-1-e1622e2e5642>\u001b[0m in \u001b[0;36m<module>\u001b[0;34m\u001b[0m\n\u001b[1;32m      1\u001b[0m \u001b[0;31m# 加载测试数据（排行榜软件）详情\u001b[0m\u001b[0;34m\u001b[0m\u001b[0;34m\u001b[0m\u001b[0;34m\u001b[0m\u001b[0m\n\u001b[1;32m      2\u001b[0m \u001b[0mprint\u001b[0m\u001b[0;34m(\u001b[0m\u001b[0;34m'😀😀😀 加载测试数据'\u001b[0m\u001b[0;34m)\u001b[0m\u001b[0;34m\u001b[0m\u001b[0;34m\u001b[0m\u001b[0m\n\u001b[0;32m----> 3\u001b[0;31m \u001b[0mtest_app_data\u001b[0m \u001b[0;34m=\u001b[0m \u001b[0mpd\u001b[0m\u001b[0;34m.\u001b[0m\u001b[0mread_csv\u001b[0m\u001b[0;34m(\u001b[0m\u001b[0;34m\"./test_app_list.csv\"\u001b[0m\u001b[0;34m)\u001b[0m\u001b[0;34m\u001b[0m\u001b[0;34m\u001b[0m\u001b[0m\n\u001b[0m",
      "\u001b[0;31mNameError\u001b[0m: name 'pd' is not defined"
     ]
    }
   ],
   "source": [
    "# 加载测试数据（排行榜软件）详情\n",
    "test_app_data = pd.read_csv(\"./test_app_list.csv\")\n",
    "print('😀😀😀 加载测试数据')"
   ]
  },
  {
   "cell_type": "code",
   "execution_count": null,
   "id": "9415af8c-563e-468a-b896-f794de5bebf9",
   "metadata": {},
   "outputs": [],
   "source": [
    "# 查看大小\n",
    "print('😀😀😀 训练数据大小：'+ str(training_app_data.shape))\n",
    "print('😀😀😀 测试数据大小：'+ str(test_app_data.shape))"
   ]
  },
  {
   "cell_type": "code",
   "execution_count": null,
   "id": "1c428b67-c013-4300-90b6-0dc740e74b35",
   "metadata": {},
   "outputs": [],
   "source": [
    "# 预览前3条数据\n",
    "training_app_data.head(3)"
   ]
  },
  {
   "cell_type": "code",
   "execution_count": null,
   "id": "314f2d38-6d45-45db-b1a6-304ce81017e9",
   "metadata": {},
   "outputs": [],
   "source": [
    "test_app_data.head(3)"
   ]
  },
  {
   "cell_type": "code",
   "execution_count": null,
   "id": "93fc50ac-f660-4ae6-a2fc-e11135919148",
   "metadata": {},
   "outputs": [],
   "source": [
    "# 将privacy不为空的改为1\n",
    "training_app_data.loc[training_app_data[training_app_data['privacy']!='0'].index.tolist(),'privacy'] = 1\n",
    "test_app_data.loc[test_app_data[test_app_data['privacy']!='0'].index.tolist(),'privacy'] = 1\n",
    "\n",
    "# 扔掉用不到的列\n",
    "\n",
    "# APP版本\n",
    "training_app_data.drop(\"app_version\", axis = 1, inplace = True)\n",
    "# 商城地址，无意义\n",
    "training_app_data.drop(\"app_store_url\", axis = 1, inplace = True)\n",
    "# 图标地址，无意义\n",
    "training_app_data.drop(\"icon_url\", axis = 1, inplace = True)\n",
    "# 安卓最低版本\n",
    "training_app_data.drop(\"android_req_version\", axis = 1, inplace = True)\n",
    "# 开发者\n",
    "training_app_data.drop(\"developer\", axis = 1, inplace = True)\n",
    "\n",
    "\n",
    "\n",
    "# APP版本\n",
    "test_app_data.drop(\"app_version\", axis = 1, inplace = True)\n",
    "# 商城地址，无意义\n",
    "test_app_data.drop(\"app_store_url\", axis = 1, inplace = True)\n",
    "# 图标地址，无意义\n",
    "test_app_data.drop(\"icon_url\", axis = 1, inplace = True)\n",
    "# 安卓最低版本\n",
    "test_app_data.drop(\"android_req_version\", axis = 1, inplace = True)\n",
    "# 开发者\n",
    "test_app_data.drop(\"developer\", axis = 1, inplace = True)\n",
    "\n",
    "\n",
    "print('😀😀😀 已去除training/test data中版本、商城地址、图标地址、安卓最低版本、开发者字段')"
   ]
  },
  {
   "cell_type": "code",
   "execution_count": null,
   "id": "57f16ec1-799d-4226-b1ef-ae0b6a376c7f",
   "metadata": {},
   "outputs": [],
   "source": [
    "# 切割字符，取类别和权限合集\n",
    "\n",
    "# 类别、权限、需要取两份数据的合集\n",
    "\n",
    "cate_group = []\n",
    "permission_group = []\n",
    "\n",
    "\n",
    "for index,row in training_app_data.iterrows():\n",
    "    \n",
    "    cate_str =  row['cate_str']\n",
    "    cate_list = cate_str.split(',')[:-1]\n",
    "    \n",
    "    permission_str =  row['permission_str']\n",
    "    permission_list  = permission_str.split(',')[:-1]\n",
    "    \n",
    "    # 取合集\n",
    "    cate_group = list(set(cate_list).union(set(cate_group)))\n",
    "    permission_group = list(set(permission_list).union(set(permission_group)))\n",
    "\n",
    "    \n",
    "for index,row in test_app_data.iterrows():\n",
    "    \n",
    "    cate_str =  row['cate_str']\n",
    "    cate_list = cate_str.split(',')[:-1]\n",
    "    \n",
    "    permission_str =  row['permission_str']\n",
    "    permission_list  = permission_str.split(',')[:-1]\n",
    "    \n",
    "    # 取合集\n",
    "    cate_group = list(set(cate_list).union(set(cate_group)))\n",
    "    permission_group = list(set(permission_list).union(set(permission_group)))\n",
    "\n",
    "print('😀😀😀 已处理training/test data中分类和所需权限字符串，并生成相应词典')"
   ]
  },
  {
   "cell_type": "code",
   "execution_count": null,
   "id": "07846b9b-3cfc-4884-9daf-d82221f593ea",
   "metadata": {},
   "outputs": [],
   "source": [
    "# 将切割后的类别和权限增加进列（构造新特征），并初始化值为0\n",
    "\n",
    "# 类别\n",
    "cate_dict = {}\n",
    "# 权限\n",
    "permission_dict = {}\n",
    "\n",
    "\n",
    "for index,val in enumerate(cate_group): \n",
    "    cols_name = 'category-'+str(index)\n",
    "    cate_dict[val] = cols_name\n",
    "    # 增加一列：分类\n",
    "    training_app_data[cols_name] = 0\n",
    "    test_app_data[cols_name] = 0\n",
    "\n",
    "for index,val in enumerate(permission_group):  \n",
    "    cols_name = 'permission-'+str(index)\n",
    "    permission_dict[val] = cols_name\n",
    "    # 增加一列：权限\n",
    "    training_app_data[cols_name] = 0\n",
    "    test_app_data[cols_name] = 0    \n",
    "\n",
    "print('😀😀😀 已构造新特征，并初始化为0')    "
   ]
  },
  {
   "cell_type": "code",
   "execution_count": null,
   "id": "95778491-ef64-4ac4-be24-2810c49e5dbb",
   "metadata": {},
   "outputs": [],
   "source": [
    "# 遍历每行数据，重新根据类别和权限实际字符，将对应类别标志为1\n",
    "\n",
    "for index,row in training_app_data.iterrows():\n",
    "\n",
    "\n",
    "    cate_str =  row['cate_str']\n",
    "    cate_list = cate_str.split(',')[:-1]\n",
    "    \n",
    "    permission_str =  row['permission_str']\n",
    "    permission_list  = permission_str.split(',')[:-1]\n",
    "    \n",
    "    # 取交集，赋值\n",
    "    common_cate = list( set(cate_list).intersection(set(cate_group)))\n",
    "    \n",
    "    for cate_name in common_cate:\n",
    "        \n",
    "        training_app_data.loc[index,cate_dict[cate_name] ] = 1\n",
    "\n",
    "    common_permission = list( set(permission_list).intersection(set(permission_group)))\n",
    "    \n",
    "    for permission_name in common_permission:\n",
    "        training_app_data.loc[index,permission_dict[permission_name]] = 1\n",
    "    \n",
    "\n",
    "    \n",
    "for index,row in test_app_data.iterrows():\n",
    "\n",
    "\n",
    "    cate_str =  row['cate_str']\n",
    "    cate_list = cate_str.split(',')[:-1]\n",
    "    \n",
    "    permission_str =  row['permission_str']\n",
    "    permission_list  = permission_str.split(',')[:-1]\n",
    "    \n",
    "    # 取交集，赋值\n",
    "    common_cate = list( set(cate_list).intersection(set(cate_group)))\n",
    "    \n",
    "    for cate_name in common_cate:\n",
    "        \n",
    "        test_app_data.loc[index,cate_dict[cate_name] ] = 1\n",
    "\n",
    "    common_permission = list( set(permission_list).intersection(set(permission_group)))\n",
    "    \n",
    "    for permission_name in common_permission:\n",
    "        test_app_data.loc[index,permission_dict[permission_name]] = 1\n",
    "    \n",
    "\n",
    "print('😀😀😀 新特征已重新赋值')  "
   ]
  },
  {
   "cell_type": "code",
   "execution_count": null,
   "id": "5a552611-45e2-4454-8ac4-26dff5f6e967",
   "metadata": {},
   "outputs": [],
   "source": [
    "training_app_data.head(3)"
   ]
  },
  {
   "cell_type": "code",
   "execution_count": null,
   "id": "e5d63447-6e05-4b2d-ab63-434a7ee9ab1f",
   "metadata": {},
   "outputs": [],
   "source": [
    "# 记录一下APP名称，待会要删除掉\n",
    "vicious_app_group = training_app_data['app_name']\n",
    "rank_app_group = test_app_data['app_name']"
   ]
  },
  {
   "cell_type": "code",
   "execution_count": null,
   "id": "87c12516-c3b1-48c6-baa9-1a1ea1329b6d",
   "metadata": {},
   "outputs": [],
   "source": [
    "# 再扔掉多余字段\n",
    "\n",
    "# 使用过\n",
    "training_app_data.drop(\"cate_str\", axis = 1, inplace = True)\n",
    "# 使用过\n",
    "training_app_data.drop(\"permission_str\", axis = 1, inplace = True)\n",
    "# APP名称\n",
    "training_app_data.drop(\"app_name\", axis = 1, inplace = True)\n",
    "\n",
    "\n",
    "\n",
    "# 使用过\n",
    "test_app_data.drop(\"cate_str\", axis = 1, inplace = True)\n",
    "# 使用过\n",
    "test_app_data.drop(\"permission_str\", axis = 1, inplace = True)\n",
    "# APP名称\n",
    "test_app_data.drop(\"app_name\", axis = 1, inplace = True)\n",
    "\n",
    "\n",
    "print('😀😀😀 已去除training/test data中多余字段')"
   ]
  },
  {
   "cell_type": "code",
   "execution_count": null,
   "id": "b645dad4-5689-4677-8393-abb985240cec",
   "metadata": {},
   "outputs": [],
   "source": [
    "# 再次检查\n",
    "training_app_data.head(3)"
   ]
  },
  {
   "cell_type": "code",
   "execution_count": null,
   "id": "3529e01b-7bf9-40a0-9b20-902812404509",
   "metadata": {},
   "outputs": [],
   "source": [
    "test_app_data.tail(3)"
   ]
  },
  {
   "cell_type": "code",
   "execution_count": null,
   "id": "fb69faaf-f9d6-4b44-9d75-01df8fc4b8bb",
   "metadata": {},
   "outputs": [],
   "source": [
    "# 查看排名前30的特征\n",
    "training_top_features = pd.Series.sort_values(training_app_data.sum(axis=0), ascending=False)[1:30]\n",
    "test_top_features = pd.Series.sort_values(test_app_data.sum(axis=0), ascending=False)[1:30]"
   ]
  },
  {
   "cell_type": "code",
   "execution_count": null,
   "id": "ab65cb3e-fd40-4e94-906b-7bc4f96bf80e",
   "metadata": {},
   "outputs": [],
   "source": [
    "# 训练数据前30的特征\n",
    "index_list = []\n",
    "for index_val in training_top_features.index:\n",
    "    \n",
    "    index_list.append(list(permission_dict.keys())[list(permission_dict.values()).index(index_val)])\n",
    "\n",
    "pd.Series(training_top_features.tolist(), index =index_list)"
   ]
  },
  {
   "cell_type": "code",
   "execution_count": null,
   "id": "3ff7aa1e-fde0-4763-a38c-7df9faef31a9",
   "metadata": {},
   "outputs": [],
   "source": [
    "# 测试数据前30的特征\n",
    "index_list = []\n",
    "for index_val in test_top_features.index:\n",
    "    \n",
    "    index_list.append(list(permission_dict.keys())[list(permission_dict.values()).index(index_val)])\n",
    "\n",
    "pd.Series(test_top_features.tolist(), index =index_list)"
   ]
  },
  {
   "cell_type": "code",
   "execution_count": null,
   "id": "d78c3a2e-3f2b-435f-bf0b-28db0d1f1ae4",
   "metadata": {},
   "outputs": [],
   "source": [
    "# 查看排名前30的特征\n",
    "fig, axs =  plt.subplots(figsize=(15, 8),nrows=2, sharex=True)\n",
    "pd.Series.sort_values(training_app_data.sum(axis=0), ascending=False)[1:30].plot.bar(ax=axs[0],color=\"gray\")\n",
    "pd.Series.sort_values(test_app_data.sum(axis=0), ascending=False)[1:30].plot.bar(ax=axs[1],color=\"blue\")"
   ]
  },
  {
   "cell_type": "code",
   "execution_count": null,
   "id": "e8a7d6d5-1991-4e67-88cf-764dfe9ce33e",
   "metadata": {},
   "outputs": [],
   "source": []
  },
  {
   "cell_type": "code",
   "execution_count": null,
   "id": "bc7a99dc-505f-41de-b6f2-eec7bd7bfcf4",
   "metadata": {},
   "outputs": [],
   "source": [
    "corrmat = training_app_data.corr()\n",
    "f, ax = plt.subplots(figsize=(12, 9))\n",
    "sns.heatmap(corrmat, vmax=.8, square=True,cmap='YlGnBu');"
   ]
  },
  {
   "cell_type": "code",
   "execution_count": null,
   "id": "237a9c48-b5ad-48c7-952b-8d57aefacb44",
   "metadata": {},
   "outputs": [],
   "source": [
    "corrmat = test_app_data.corr()\n",
    "f, ax = plt.subplots(figsize=(12, 9))\n",
    "sns.heatmap(corrmat, vmax=.8, square=True,cmap='YlGnBu');"
   ]
  },
  {
   "cell_type": "code",
   "execution_count": null,
   "id": "bab21044-759d-4260-aa1b-068ef365ecf0",
   "metadata": {},
   "outputs": [],
   "source": []
  },
  {
   "cell_type": "code",
   "execution_count": null,
   "id": "63c74c21-74ca-492a-a3c1-6350471ec7df",
   "metadata": {},
   "outputs": [],
   "source": [
    "\n",
    "import numpy as np\n",
    "import matplotlib.pyplot as plt\n",
    "import matplotlib.font_manager\n",
    "from sklearn import svm\n",
    "\n",
    "\n",
    "X_train = training_app_data\n",
    "X_test = test_app_data\n",
    "# fit the model\n",
    "clf = svm.OneClassSVM(nu=0.03, kernel=\"rbf\", gamma='auto')\n",
    "clf.fit(X_train)\n",
    "y_pred_train = clf.predict(X_train)\n",
    "y_pred_test = clf.predict(X_test)\n",
    "\n",
    "n_error_train = y_pred_train[y_pred_train == -1].size\n",
    "n_error_test = y_pred_test[y_pred_test == -1].size\n",
    "# n_error_outliers = y_pred_outliers[y_pred_outliers == 1].size\n"
   ]
  },
  {
   "cell_type": "code",
   "execution_count": null,
   "id": "a32f75a8-6457-412d-8428-30d44cbe3093",
   "metadata": {},
   "outputs": [],
   "source": [
    "# 根据decision_function挑选出最可能有问题的前30个APP（正数示为同一类，负数表示不为同一类）\n",
    "dicision_arr = clf.decision_function(X_test)\n",
    "\n",
    "d = {'app_name': rank_app_group, 'decision_value': dicision_arr}\n",
    "df = pd.DataFrame(data=d)\n",
    "\n",
    "cls_a_result = df[df['decision_value']>0].sort_values(by='decision_value', ascending=False)"
   ]
  },
  {
   "cell_type": "code",
   "execution_count": null,
   "id": "b325e286-ed8d-4563-905e-cfbd4ff05bcb",
   "metadata": {},
   "outputs": [],
   "source": [
    "cls_a_result[:30]"
   ]
  },
  {
   "cell_type": "code",
   "execution_count": null,
   "id": "803ac2eb-aaea-4c39-bf36-e4fd5e020035",
   "metadata": {},
   "outputs": [],
   "source": [
    "import numpy as np\n",
    "import matplotlib\n",
    "import matplotlib.pyplot as plt\n",
    "from sklearn.neighbors import LocalOutlierFactor\n",
    "\n",
    "\n",
    "X_train = training_app_data\n",
    "X_test = test_app_data\n",
    "\n",
    "# fit the model for novelty detection (novelty=True)\n",
    "clf = LocalOutlierFactor(n_neighbors=30, novelty=True, contamination=0.1)\n",
    "clf.fit(X_train)\n",
    "# DO NOT use predict, decision_function and score_samples on X_train as this\n",
    "# would give wrong results but only on new unseen training_app_data (not used in X_train),\n",
    "# e.g. X_test, X_outliers or the meshgrid\n",
    "X_scores = clf.negative_outlier_factor_\n",
    "\n",
    "y_pred_test = clf.predict(X_test)\n",
    "n_error_test = y_pred_test[y_pred_test == -1].size"
   ]
  },
  {
   "cell_type": "code",
   "execution_count": null,
   "id": "9ffb1bbd-0aca-4733-bde0-aaf356855ba8",
   "metadata": {},
   "outputs": [],
   "source": [
    "# 根据decision_function挑选出最可能有问题的前30个APP（正数示为同一类，负数表示不为同一类）\n",
    "dicision_arr = clf.decision_function(X_test)\n",
    "\n",
    "d = {'app_name': rank_app_group, 'decision_value': dicision_arr}\n",
    "df = pd.DataFrame(data=d)\n",
    "\n",
    "cls_b_result = df[df['decision_value']>0].sort_values(by='decision_value', ascending=False)"
   ]
  },
  {
   "cell_type": "code",
   "execution_count": null,
   "id": "4a563ccc-7873-48c5-b8b1-a98f0b0e3fbb",
   "metadata": {},
   "outputs": [],
   "source": [
    "cls_b_result[:30]"
   ]
  },
  {
   "cell_type": "code",
   "execution_count": null,
   "id": "4060691f-7ef2-4da9-acb9-181730e3db71",
   "metadata": {},
   "outputs": [],
   "source": [
    "# 两个模型预测共同结果\n",
    "result_arr = list(set(cls_a_result.app_name.values.tolist()).intersection(cls_b_result.app_name.values.tolist()))\n",
    "result_arr[:30]"
   ]
  },
  {
   "cell_type": "code",
   "execution_count": null,
   "id": "772bae94-8fbe-44bd-ba55-823721c35a49",
   "metadata": {},
   "outputs": [],
   "source": [
    "print('😀😀😀 两个模型预测共同结果共有 {num} 个'.format(num=len(result_arr)))"
   ]
  },
  {
   "cell_type": "code",
   "execution_count": null,
   "id": "1a3d5b9c-82bf-46a3-81f9-fab65c65f334",
   "metadata": {},
   "outputs": [],
   "source": []
  }
 ],
 "metadata": {
  "kernelspec": {
   "display_name": "Python 3",
   "language": "python",
   "name": "python3"
  },
  "language_info": {
   "codemirror_mode": {
    "name": "ipython",
    "version": 3
   },
   "file_extension": ".py",
   "mimetype": "text/x-python",
   "name": "python",
   "nbconvert_exporter": "python",
   "pygments_lexer": "ipython3",
   "version": "3.7.10"
  }
 },
 "nbformat": 4,
 "nbformat_minor": 5
}
